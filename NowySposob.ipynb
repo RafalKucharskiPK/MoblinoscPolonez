{
 "cells": [
  {
   "cell_type": "code",
   "execution_count": null,
   "metadata": {},
   "outputs": [],
   "source": [
    "import pandas as pd\n",
    "import matplotlib.pyplot as plt\n",
    "import win32com.client\n",
    "import os"
   ]
  },
  {
   "cell_type": "markdown",
   "metadata": {},
   "source": [
    "params"
   ]
  },
  {
   "cell_type": "code",
   "execution_count": 188,
   "metadata": {},
   "outputs": [],
   "source": [
    "VISUM_PATH = os.path.join(os.getcwd(),\"data//visum.ver\")\n",
    "POI_CAT = 1\n",
    "MTX_JRT = 20\n",
    "MTX_PRT = 11\n",
    "\n",
    "CZAS_PARKOWANIA = {\"SPPN\":6*60,\n",
    "                   \"POZA_SPPN\":3*60}"
   ]
  },
  {
   "cell_type": "code",
   "execution_count": 189,
   "metadata": {},
   "outputs": [],
   "source": [
    "Visum = win32com.client.Dispatch(\"Visum.Visum\")  # uruchom Visum\n",
    "Visum.LoadVersion(VISUM_PATH)  # zaladuj plik"
   ]
  },
  {
   "cell_type": "code",
   "execution_count": 202,
   "metadata": {},
   "outputs": [],
   "source": [
    "POIs = pd.DataFrame(list(Visum.Net.POICategories.ItemByKey(POI_CAT).POIs.GetMultipleAttributes([\"No\", \"ZoneID\",\"Czas_Zone\"])),\n",
    "                    columns = [\"POI\", \"ZoneID\",\"Czas_Zone\"])\n",
    "POIs.ZoneID = POIs.ZoneID.astype(int)\n",
    "POIs.POI = POIs.POI.astype(int)"
   ]
  },
  {
   "cell_type": "code",
   "execution_count": 203,
   "metadata": {},
   "outputs": [],
   "source": [
    "cols = Visum.Net.Zones.GetMultiAttValues('No', False)\n",
    "cols = [int(_[1]) for _ in cols]\n",
    "mtx = Visum.Net.Matrices.ItemByKey(MTX_JRT)\n",
    "vals = list(mtx.GetValuesFloat())\n",
    "JRT = pd.DataFrame(vals, cols, cols)\n",
    "mtx = Visum.Net.Matrices.ItemByKey(MTX_PRT)\n",
    "vals = list(mtx.GetValuesFloat())\n",
    "PRT = pd.DataFrame(vals, cols, cols)"
   ]
  },
  {
   "cell_type": "code",
   "execution_count": 204,
   "metadata": {},
   "outputs": [],
   "source": [
    "JRT = JRT.stack().reset_index()\n",
    "JRT.columns = ['Z',\"Do\",\"Czas_PuT\"]\n",
    "PRT = PRT.stack().reset_index()\n",
    "PRT.columns = ['Z',\"Do\",\"Czas_PrT\"]"
   ]
  },
  {
   "cell_type": "code",
   "execution_count": 205,
   "metadata": {},
   "outputs": [],
   "source": [
    "jk = pd.merge(JRT,POIs,how='outer',left_on=\"Do\",right_on=\"ZoneID\").dropna()\n",
    "ki = pd.merge(POIs,JRT,how='outer',left_on=\"ZoneID\",right_on=\"Z\").dropna()\n",
    "jki_JRT = pd.merge(jk,ki,on='POI')"
   ]
  },
  {
   "cell_type": "code",
   "execution_count": 206,
   "metadata": {},
   "outputs": [],
   "source": [
    "jki_JRT['Czas_PuT']=jki_JRT.Czas_PuT_x + jki_JRT.Czas_PuT_y + 2*jki_JRT.Czas_Zone_x  \n",
    "jki_JRT = jki_JRT[['Z_x','POI','Do_y','Czas_PuT']]\n",
    "jki_JRT.columns = ['Z_Rejon','POI','Do_Rejon','Czas_PuT']"
   ]
  },
  {
   "cell_type": "code",
   "execution_count": 207,
   "metadata": {},
   "outputs": [],
   "source": [
    "jk = pd.merge(PRT,POIs,how='outer',left_on=\"Do\",right_on=\"ZoneID\").dropna()\n",
    "ki = pd.merge(POIs,PRT,how='outer',left_on=\"ZoneID\",right_on=\"Z\").dropna()\n",
    "jki_PRT = pd.merge(jk,ki,on='POI')"
   ]
  },
  {
   "cell_type": "code",
   "execution_count": 208,
   "metadata": {},
   "outputs": [],
   "source": [
    "jki_PRT['Czas_PrT']=jki_PRT.Czas_PrT_x + jki_PRT.Czas_PrT_y + 2*jki_PRT.Czas_Zone_x + 2*CZAS_PARKOWANIA['SPPN'] \n",
    "jki_PRT = jki_PRT[['Z_x','POI','Do_y','Czas_PrT']]\n",
    "jki_PRT.columns = ['Z_Rejon','POI','Do_Rejon','Czas_PrT']"
   ]
  },
  {
   "cell_type": "code",
   "execution_count": 211,
   "metadata": {},
   "outputs": [],
   "source": [
    "jki = pd.merge(jki_PRT,jki_JRT,on=['Z_Rejon','POI','Do_Rejon'])\n",
    "jki.to_csv(\"data//From_Via_To.csv\")"
   ]
  },
  {
   "cell_type": "code",
   "execution_count": 210,
   "metadata": {},
   "outputs": [
    {
     "data": {
      "text/html": [
       "<div>\n",
       "<style scoped>\n",
       "    .dataframe tbody tr th:only-of-type {\n",
       "        vertical-align: middle;\n",
       "    }\n",
       "\n",
       "    .dataframe tbody tr th {\n",
       "        vertical-align: top;\n",
       "    }\n",
       "\n",
       "    .dataframe thead th {\n",
       "        text-align: right;\n",
       "    }\n",
       "</style>\n",
       "<table border=\"1\" class=\"dataframe\">\n",
       "  <thead>\n",
       "    <tr style=\"text-align: right;\">\n",
       "      <th></th>\n",
       "      <th>Z_Rejon</th>\n",
       "      <th>POI</th>\n",
       "      <th>Do_Rejon</th>\n",
       "      <th>Czas_PrT</th>\n",
       "      <th>Czas_PuT</th>\n",
       "    </tr>\n",
       "  </thead>\n",
       "  <tbody>\n",
       "    <tr>\n",
       "      <th>0</th>\n",
       "      <td>1</td>\n",
       "      <td>15.00</td>\n",
       "      <td>1</td>\n",
       "      <td>876.23</td>\n",
       "      <td>156.23</td>\n",
       "    </tr>\n",
       "  </tbody>\n",
       "</table>\n",
       "</div>"
      ],
      "text/plain": [
       "   Z_Rejon   POI  Do_Rejon  Czas_PrT  Czas_PuT\n",
       "0        1 15.00         1    876.23    156.23"
      ]
     },
     "execution_count": 210,
     "metadata": {},
     "output_type": "execute_result"
    }
   ],
   "source": [
    "jki.head(1)"
   ]
  }
 ],
 "metadata": {
  "kernelspec": {
   "display_name": "Python 2",
   "language": "python",
   "name": "python2"
  },
  "language_info": {
   "codemirror_mode": {
    "name": "ipython",
    "version": 2
   },
   "file_extension": ".py",
   "mimetype": "text/x-python",
   "name": "python",
   "nbconvert_exporter": "python",
   "pygments_lexer": "ipython2",
   "version": "2.7.15"
  }
 },
 "nbformat": 4,
 "nbformat_minor": 2
}
