{
 "cells": [
  {
   "cell_type": "markdown",
   "metadata": {},
   "source": [
    "#### Paper one\n",
    "---\n",
    "Modal disparities in spatiotemporal accessibility to non-work activities on the commute home from work in Warsaw, Poland\n",
    "==="
   ]
  },
  {
   "cell_type": "code",
   "execution_count": 1,
   "metadata": {},
   "outputs": [],
   "source": [
    "import pandas as pd\n",
    "import matplotlib.pyplot as plt\n",
    "import numpy as np\n",
    "%matplotlib inline\n",
    "pd.options.display.float_format = '{:,.2f}'.format\n",
    "pd.options.mode.chained_assignment = None "
   ]
  },
  {
   "cell_type": "markdown",
   "metadata": {},
   "source": [
    "### parameters"
   ]
  },
  {
   "cell_type": "code",
   "execution_count": 2,
   "metadata": {},
   "outputs": [],
   "source": [
    "Bs= [60, 75, 90, 105, 120] \n",
    "t_ks =[30,40,50,60,70,80,90]"
   ]
  },
  {
   "cell_type": "markdown",
   "metadata": {},
   "source": [
    "### prepare"
   ]
  },
  {
   "cell_type": "code",
   "execution_count": 3,
   "metadata": {},
   "outputs": [],
   "source": [
    "od_PuT = pd.read_csv('data//MTX_99321.csv', index_col = 'Unnamed: 0')\n",
    "od_PuT.columns = [int(c) for c in od_PuT.columns]\n",
    "od_PrT = pd.read_csv('data//MTX_99421.csv', index_col = 'Unnamed: 0')\n",
    "od_PrT.columns = [int(c) for c in od_PrT.columns]\n",
    "od_PrT = od_PrT.stack().reset_index()\n",
    "od_PrT.columns=['Z_Rejon',\"Do_Rejon\", 'TripsPrT']\n",
    "od_PrT.TripsPrT = od_PrT.TripsPrT.astype('float32')\n",
    "od_PuT = od_PuT.stack().reset_index()\n",
    "od_PuT.columns=['Z_Rejon',\"Do_Rejon\", 'TripsPuT']\n",
    "od_PuT.TripsPuT = od_PuT.TripsPuT.astype('float32')\n",
    "od_PrT = od_PrT[od_PrT.TripsPrT>0.05]\n",
    "od_PuT = od_PuT[od_PuT.TripsPuT>0.05]\n",
    "#od = pd.merge(od_PrT, od_PuT, on = ['Z_Rejon', \"Do_Rejon\"])"
   ]
  },
  {
   "cell_type": "code",
   "execution_count": 4,
   "metadata": {},
   "outputs": [],
   "source": [
    "od_PuT.Z_Rejon = od_PuT.Z_Rejon.astype('int32')\n",
    "od_PrT.Z_Rejon = od_PrT.Z_Rejon.astype('int32')\n",
    "od_PuT.Do_Rejon=od_PuT.Do_Rejon.astype('int32')\n",
    "od_PrT.Do_Rejon=od_PrT.Do_Rejon.astype('int32')\n",
    "od_PrT.TripsPrT=od_PrT.TripsPrT.astype('float32')\n",
    "od_PuT.TripsPuT=od_PuT.TripsPuT.astype('float32')"
   ]
  },
  {
   "cell_type": "markdown",
   "metadata": {},
   "source": [
    "# Funcs"
   ]
  },
  {
   "cell_type": "code",
   "execution_count": 5,
   "metadata": {},
   "outputs": [],
   "source": [
    "def percentile(n):\n",
    "    def percentile_(x):\n",
    "        return np.percentile(x, n)\n",
    "    percentile_.__name__ = 'p_%s' % n\n",
    "    return percentile_\n",
    "aggs = ['mean','min','max','std','median', percentile(25), percentile(75)]"
   ]
  },
  {
   "cell_type": "code",
   "execution_count": 6,
   "metadata": {},
   "outputs": [],
   "source": [
    "def calc_commute(trips,B,t_k,mode, folder = 'data//res//'):\n",
    "    name = \"_{}_{}_{}\".format(mode,str(B),str(t_k))\n",
    "    print(name)\n",
    "    print('A_jki')\n",
    "    trips['A'] = B - trips.t - t_k\n",
    "    trips.A[trips.A < 0] = 0\n",
    "    trips.A[trips.A > 0] = trips.A + t_k\n",
    "    print('A_ji_C')\n",
    "    A_ji_C = trips[trips.A>0].groupby(by=['i','j'])['A'].agg(aggs)\n",
    "    A_ji_C.columns = ['A_ji' + name + str(col)  for col in A_ji_C.columns]\n",
    "    A_ji_C.to_csv(folder+'A_ji_C'+name+\".csv\")\n",
    "    print('A_i_C')\n",
    "    A_i_C = trips[trips.A>0].groupby(by=['i'])['A'].agg(aggs)\n",
    "    A_i_C.columns = ['A_i_C' + name + str(col)  for col in A_i_C.columns]\n",
    "    A_i_C.to_csv(folder+'A_i_C'+name+\".csv\")\n",
    "    print('A_i_H')\n",
    "    A_i_H = trips[(trips.i == trips.j) & (trips.A>0)].groupby(by=['i'])['A'].agg(aggs)\n",
    "    A_i_H.columns = ['A_i_H' + name + str(col)  for col in A_i_H.columns]\n",
    "    A_i_H.to_csv(folder+'A_i_H'+name+\".csv\")     "
   ]
  },
  {
   "cell_type": "markdown",
   "metadata": {},
   "source": [
    "### JRT"
   ]
  },
  {
   "cell_type": "code",
   "execution_count": 21,
   "metadata": {},
   "outputs": [],
   "source": [
    "usecols = ['Z_Rejon','POI','Do_Rejon','Czas_PrT']\n",
    "dtype={'Unnamed: 0':'int32','Z_Rejon': 'int16',\n",
    "       'Czas_PuT': 'float32',\n",
    " 'Do_Rejon': 'int16',\n",
    " 'POI': 'int16'}\n",
    "trips_JRT = pd.read_csv('data//From_Via_To_JRT.csv', dtype = dtype)\n",
    "del trips_JRT['Unnamed: 0']"
   ]
  },
  {
   "cell_type": "code",
   "execution_count": 24,
   "metadata": {},
   "outputs": [],
   "source": [
    "trips_JRT.Czas_PuT = trips_JRT.Czas_PuT.astype('float32') "
   ]
  },
  {
   "cell_type": "code",
   "execution_count": 25,
   "metadata": {},
   "outputs": [
    {
     "data": {
      "text/plain": [
       "<matplotlib.axes._subplots.AxesSubplot at 0x18499588>"
      ]
     },
     "execution_count": 25,
     "metadata": {},
     "output_type": "execute_result"
    },
    {
     "data": {
      "image/png": "[encoded data removed]",
      "text/plain": [
       "<Figure size 432x288 with 1 Axes>"
      ]
     },
     "metadata": {
      "needs_background": "light"
     },
     "output_type": "display_data"
    }
   ],
   "source": [
    "trips_JRT[trips_JRT['Czas_PuT']<4000]['Czas_PuT'].hist()"
   ]
  },
  {
   "cell_type": "code",
   "execution_count": 26,
   "metadata": {},
   "outputs": [],
   "source": [
    "trips_JRT = trips_JRT[trips_JRT.Czas_PuT<600]"
   ]
  },
  {
   "cell_type": "code",
   "execution_count": 27,
   "metadata": {},
   "outputs": [],
   "source": [
    "trips_JRT = pd.merge(trips_JRT,od_PuT, on = ['Z_Rejon',\"Do_Rejon\"])"
   ]
  },
  {
   "cell_type": "code",
   "execution_count": 29,
   "metadata": {},
   "outputs": [],
   "source": [
    "del trips_JRT['TripsPuT']"
   ]
  },
  {
   "cell_type": "code",
   "execution_count": 31,
   "metadata": {},
   "outputs": [],
   "source": [
    "trips_JRT.columns = ['j','k','i','t']"
   ]
  },
  {
   "cell_type": "code",
   "execution_count": 32,
   "metadata": {},
   "outputs": [
    {
     "data": {
      "text/html": [
       "<div>\n",
       "<style scoped>\n",
       "    .dataframe tbody tr th:only-of-type {\n",
       "        vertical-align: middle;\n",
       "    }\n",
       "\n",
       "    .dataframe tbody tr th {\n",
       "        vertical-align: top;\n",
       "    }\n",
       "\n",
       "    .dataframe thead th {\n",
       "        text-align: right;\n",
       "    }\n",
       "</style>\n",
       "<table border=\"1\" class=\"dataframe\">\n",
       "  <thead>\n",
       "    <tr style=\"text-align: right;\">\n",
       "      <th></th>\n",
       "      <th>j</th>\n",
       "      <th>k</th>\n",
       "      <th>i</th>\n",
       "      <th>t</th>\n",
       "    </tr>\n",
       "  </thead>\n",
       "  <tbody>\n",
       "    <tr>\n",
       "      <th>0</th>\n",
       "      <td>1</td>\n",
       "      <td>153</td>\n",
       "      <td>1</td>\n",
       "      <td>23.90</td>\n",
       "    </tr>\n",
       "    <tr>\n",
       "      <th>1</th>\n",
       "      <td>1</td>\n",
       "      <td>329</td>\n",
       "      <td>1</td>\n",
       "      <td>22.79</td>\n",
       "    </tr>\n",
       "    <tr>\n",
       "      <th>2</th>\n",
       "      <td>1</td>\n",
       "      <td>345</td>\n",
       "      <td>1</td>\n",
       "      <td>24.75</td>\n",
       "    </tr>\n",
       "    <tr>\n",
       "      <th>3</th>\n",
       "      <td>1</td>\n",
       "      <td>170</td>\n",
       "      <td>1</td>\n",
       "      <td>31.45</td>\n",
       "    </tr>\n",
       "    <tr>\n",
       "      <th>4</th>\n",
       "      <td>1</td>\n",
       "      <td>136</td>\n",
       "      <td>1</td>\n",
       "      <td>35.09</td>\n",
       "    </tr>\n",
       "  </tbody>\n",
       "</table>\n",
       "</div>"
      ],
      "text/plain": [
       "   j    k  i     t\n",
       "0  1  153  1 23.90\n",
       "1  1  329  1 22.79\n",
       "2  1  345  1 24.75\n",
       "3  1  170  1 31.45\n",
       "4  1  136  1 35.09"
      ]
     },
     "execution_count": 32,
     "metadata": {},
     "output_type": "execute_result"
    }
   ],
   "source": [
    "trips_JRT.head()"
   ]
  },
  {
   "cell_type": "markdown",
   "metadata": {},
   "source": [
    "# LOOP"
   ]
  },
  {
   "cell_type": "code",
   "execution_count": 50,
   "metadata": {},
   "outputs": [
    {
     "name": "stdout",
     "output_type": "stream",
     "text": [
      "_PT_60_30\n",
      "A_jki\n",
      "A_ji_C\n",
      "A_i_C\n",
      "A_i_H\n",
      "_PT_60_40\n",
      "A_jki\n",
      "A_ji_C\n",
      "A_i_C\n",
      "A_i_H\n",
      "_PT_60_50\n",
      "A_jki\n",
      "A_ji_C\n",
      "A_i_C\n",
      "A_i_H\n",
      "_PT_75_30\n",
      "A_jki\n",
      "A_ji_C\n",
      "A_i_C\n",
      "A_i_H\n",
      "_PT_75_40\n",
      "A_jki\n",
      "A_ji_C\n",
      "A_i_C\n",
      "A_i_H\n",
      "_PT_75_50\n",
      "A_jki\n",
      "A_ji_C\n",
      "A_i_C\n",
      "A_i_H\n",
      "_PT_75_60\n",
      "A_jki\n",
      "A_ji_C\n",
      "A_i_C\n",
      "A_i_H\n",
      "_PT_75_70\n",
      "A_jki\n",
      "A_ji_C\n",
      "A_i_C\n",
      "A_i_H\n",
      "_PT_90_30\n",
      "A_jki\n",
      "A_ji_C\n",
      "A_i_C\n",
      "A_i_H\n",
      "_PT_90_40\n",
      "A_jki\n",
      "A_ji_C\n",
      "A_i_C\n",
      "A_i_H\n",
      "_PT_90_50\n",
      "A_jki\n",
      "A_ji_C\n",
      "A_i_C\n",
      "A_i_H\n",
      "_PT_90_60\n",
      "A_jki\n",
      "A_ji_C\n",
      "A_i_C\n",
      "A_i_H\n",
      "_PT_90_70\n",
      "A_jki\n",
      "A_ji_C\n",
      "A_i_C\n",
      "A_i_H\n",
      "_PT_90_80\n",
      "A_jki\n",
      "A_ji_C\n",
      "A_i_C\n",
      "A_i_H\n",
      "_PT_105_30\n",
      "A_jki\n",
      "A_ji_C\n",
      "A_i_C\n",
      "A_i_H\n",
      "_PT_105_40\n",
      "A_jki\n",
      "A_ji_C\n",
      "A_i_C\n",
      "A_i_H\n",
      "_PT_105_50\n",
      "A_jki\n",
      "A_ji_C\n",
      "A_i_C\n",
      "A_i_H\n",
      "_PT_105_60\n",
      "A_jki\n",
      "A_ji_C\n",
      "A_i_C\n",
      "A_i_H\n",
      "_PT_105_70\n",
      "A_jki\n",
      "A_ji_C\n",
      "A_i_C\n",
      "A_i_H\n",
      "_PT_105_80\n",
      "A_jki\n",
      "A_ji_C\n",
      "A_i_C\n",
      "A_i_H\n",
      "_PT_105_90\n",
      "A_jki\n",
      "A_ji_C\n",
      "A_i_C\n",
      "A_i_H\n",
      "_PT_120_30\n",
      "A_jki\n",
      "A_ji_C\n",
      "A_i_C\n",
      "A_i_H\n",
      "_PT_120_40\n",
      "A_jki\n",
      "A_ji_C\n",
      "A_i_C\n",
      "A_i_H\n",
      "_PT_120_50\n",
      "A_jki\n",
      "A_ji_C\n",
      "A_i_C\n",
      "A_i_H\n",
      "_PT_120_60\n",
      "A_jki\n",
      "A_ji_C\n",
      "A_i_C\n",
      "A_i_H\n",
      "_PT_120_70\n",
      "A_jki\n",
      "A_ji_C\n",
      "A_i_C\n",
      "A_i_H\n",
      "_PT_120_80\n",
      "A_jki\n",
      "A_ji_C\n",
      "A_i_C\n",
      "A_i_H\n",
      "_PT_120_90\n",
      "A_jki\n",
      "A_ji_C\n",
      "A_i_C\n",
      "A_i_H\n"
     ]
    }
   ],
   "source": [
    "for B in Bs:\n",
    "    for t_k in t_ks:\n",
    "        if B>t_k:\n",
    "            calc_commute(trips_JRT,B,t_k,mode=\"PT\", folder = 'data//res//')"
   ]
  },
  {
   "cell_type": "code",
   "execution_count": 51,
   "metadata": {},
   "outputs": [],
   "source": [
    "del trips_JRT"
   ]
  },
  {
   "cell_type": "markdown",
   "metadata": {},
   "source": [
    "### PRT"
   ]
  },
  {
   "cell_type": "code",
   "execution_count": 7,
   "metadata": {},
   "outputs": [],
   "source": [
    "usecols = ['Z_Rejon','POI','Do_Rejon','Czas_PuT']\n",
    "dtype={'Unnamed: 0':'int32','Z_Rejon': 'int16',\n",
    " 'Czas_PrT': 'float32',\n",
    " 'Do_Rejon': 'int16',\n",
    " 'POI': 'int16'}\n",
    "trips_PRT = pd.read_csv('data//From_Via_To_PRT.csv', dtype = dtype)\n",
    "del trips_PRT['Unnamed: 0']"
   ]
  },
  {
   "cell_type": "code",
   "execution_count": 9,
   "metadata": {},
   "outputs": [],
   "source": [
    "trips_PRT = trips_PRT[trips_PRT.Czas_PrT<600]"
   ]
  },
  {
   "cell_type": "code",
   "execution_count": 10,
   "metadata": {},
   "outputs": [],
   "source": [
    "trips_PRT = pd.merge(trips_PRT,od_PrT, on = ['Z_Rejon',\"Do_Rejon\"])"
   ]
  },
  {
   "cell_type": "code",
   "execution_count": 11,
   "metadata": {},
   "outputs": [],
   "source": [
    "del trips_PRT['TripsPrT']"
   ]
  },
  {
   "cell_type": "code",
   "execution_count": 12,
   "metadata": {},
   "outputs": [],
   "source": [
    "trips_PRT.columns = ['j','k','i','t']"
   ]
  },
  {
   "cell_type": "code",
   "execution_count": 13,
   "metadata": {},
   "outputs": [
    {
     "data": {
      "text/html": [
       "<div>\n",
       "<style scoped>\n",
       "    .dataframe tbody tr th:only-of-type {\n",
       "        vertical-align: middle;\n",
       "    }\n",
       "\n",
       "    .dataframe tbody tr th {\n",
       "        vertical-align: top;\n",
       "    }\n",
       "\n",
       "    .dataframe thead th {\n",
       "        text-align: right;\n",
       "    }\n",
       "</style>\n",
       "<table border=\"1\" class=\"dataframe\">\n",
       "  <thead>\n",
       "    <tr style=\"text-align: right;\">\n",
       "      <th></th>\n",
       "      <th>j</th>\n",
       "      <th>k</th>\n",
       "      <th>i</th>\n",
       "      <th>t</th>\n",
       "    </tr>\n",
       "  </thead>\n",
       "  <tbody>\n",
       "    <tr>\n",
       "      <th>0</th>\n",
       "      <td>1</td>\n",
       "      <td>153</td>\n",
       "      <td>1</td>\n",
       "      <td>22.11</td>\n",
       "    </tr>\n",
       "    <tr>\n",
       "      <th>1</th>\n",
       "      <td>1</td>\n",
       "      <td>329</td>\n",
       "      <td>1</td>\n",
       "      <td>22.35</td>\n",
       "    </tr>\n",
       "    <tr>\n",
       "      <th>2</th>\n",
       "      <td>1</td>\n",
       "      <td>345</td>\n",
       "      <td>1</td>\n",
       "      <td>24.31</td>\n",
       "    </tr>\n",
       "    <tr>\n",
       "      <th>3</th>\n",
       "      <td>1</td>\n",
       "      <td>170</td>\n",
       "      <td>1</td>\n",
       "      <td>24.52</td>\n",
       "    </tr>\n",
       "    <tr>\n",
       "      <th>4</th>\n",
       "      <td>1</td>\n",
       "      <td>136</td>\n",
       "      <td>1</td>\n",
       "      <td>27.21</td>\n",
       "    </tr>\n",
       "  </tbody>\n",
       "</table>\n",
       "</div>"
      ],
      "text/plain": [
       "   j    k  i     t\n",
       "0  1  153  1 22.11\n",
       "1  1  329  1 22.35\n",
       "2  1  345  1 24.31\n",
       "3  1  170  1 24.52\n",
       "4  1  136  1 27.21"
      ]
     },
     "execution_count": 13,
     "metadata": {},
     "output_type": "execute_result"
    }
   ],
   "source": [
    "trips_PRT.head()"
   ]
  },
  {
   "cell_type": "markdown",
   "metadata": {},
   "source": [
    "# LOOP"
   ]
  },
  {
   "cell_type": "code",
   "execution_count": 14,
   "metadata": {},
   "outputs": [
    {
     "name": "stdout",
     "output_type": "stream",
     "text": [
      "_Car_60_30\n",
      "A_jki\n",
      "A_ji_C\n",
      "A_i_C\n",
      "A_i_H\n",
      "_Car_60_40\n",
      "A_jki\n",
      "A_ji_C\n",
      "A_i_C\n",
      "A_i_H\n",
      "_Car_60_50\n",
      "A_jki\n",
      "A_ji_C\n",
      "A_i_C\n",
      "A_i_H\n",
      "_Car_75_30\n",
      "A_jki\n",
      "A_ji_C\n",
      "A_i_C\n",
      "A_i_H\n",
      "_Car_75_40\n",
      "A_jki\n",
      "A_ji_C\n",
      "A_i_C\n",
      "A_i_H\n",
      "_Car_75_50\n",
      "A_jki\n",
      "A_ji_C\n",
      "A_i_C\n",
      "A_i_H\n",
      "_Car_75_60\n",
      "A_jki\n",
      "A_ji_C\n",
      "A_i_C\n",
      "A_i_H\n",
      "_Car_75_70\n",
      "A_jki\n",
      "A_ji_C\n",
      "A_i_C\n",
      "A_i_H\n",
      "_Car_90_30\n",
      "A_jki\n",
      "A_ji_C\n",
      "A_i_C\n",
      "A_i_H\n",
      "_Car_90_40\n",
      "A_jki\n",
      "A_ji_C\n",
      "A_i_C\n",
      "A_i_H\n",
      "_Car_90_50\n",
      "A_jki\n",
      "A_ji_C\n",
      "A_i_C\n",
      "A_i_H\n",
      "_Car_90_60\n",
      "A_jki\n",
      "A_ji_C\n",
      "A_i_C\n",
      "A_i_H\n",
      "_Car_90_70\n",
      "A_jki\n",
      "A_ji_C\n",
      "A_i_C\n",
      "A_i_H\n",
      "_Car_90_80\n",
      "A_jki\n",
      "A_ji_C\n",
      "A_i_C\n",
      "A_i_H\n",
      "_Car_105_30\n",
      "A_jki\n",
      "A_ji_C\n",
      "A_i_C\n",
      "A_i_H\n",
      "_Car_105_40\n",
      "A_jki\n",
      "A_ji_C\n",
      "A_i_C\n",
      "A_i_H\n",
      "_Car_105_50\n",
      "A_jki\n",
      "A_ji_C\n",
      "A_i_C\n",
      "A_i_H\n",
      "_Car_105_60\n",
      "A_jki\n",
      "A_ji_C\n",
      "A_i_C\n",
      "A_i_H\n",
      "_Car_105_70\n",
      "A_jki\n",
      "A_ji_C\n",
      "A_i_C\n",
      "A_i_H\n",
      "_Car_105_80\n",
      "A_jki\n",
      "A_ji_C\n",
      "A_i_C\n",
      "A_i_H\n",
      "_Car_105_90\n",
      "A_jki\n",
      "A_ji_C\n",
      "A_i_C\n",
      "A_i_H\n",
      "_Car_120_30\n",
      "A_jki\n",
      "A_ji_C\n",
      "A_i_C\n",
      "A_i_H\n",
      "_Car_120_40\n",
      "A_jki\n",
      "A_ji_C\n",
      "A_i_C\n",
      "A_i_H\n",
      "_Car_120_50\n",
      "A_jki\n",
      "A_ji_C\n",
      "A_i_C\n",
      "A_i_H\n",
      "_Car_120_60\n",
      "A_jki\n",
      "A_ji_C\n",
      "A_i_C\n",
      "A_i_H\n",
      "_Car_120_70\n",
      "A_jki\n",
      "A_ji_C\n",
      "A_i_C\n",
      "A_i_H\n",
      "_Car_120_80\n",
      "A_jki\n",
      "A_ji_C\n",
      "A_i_C\n",
      "A_i_H\n",
      "_Car_120_90\n",
      "A_jki\n",
      "A_ji_C\n",
      "A_i_C\n",
      "A_i_H\n"
     ]
    }
   ],
   "source": [
    "for B in Bs:\n",
    "    for t_k in t_ks:\n",
    "        if B>t_k:\n",
    "            calc_commute(trips_PRT,B,t_k,mode=\"Car\", folder = 'data//res//')"
   ]
  },
  {
   "cell_type": "code",
   "execution_count": null,
   "metadata": {},
   "outputs": [],
   "source": []
  }
 ],
 "metadata": {
  "kernelspec": {
   "display_name": "Python 2",
   "language": "python",
   "name": "python2"
  },
  "language_info": {
   "codemirror_mode": {
    "name": "ipython",
    "version": 2
   },
   "file_extension": ".py",
   "mimetype": "text/x-python",
   "name": "python",
   "nbconvert_exporter": "python",
   "pygments_lexer": "ipython2",
   "version": "2.7.15"
  }
 },
 "nbformat": 4,
 "nbformat_minor": 2
}
