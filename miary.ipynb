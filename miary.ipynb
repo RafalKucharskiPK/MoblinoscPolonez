{
 "cells": [
  {
   "cell_type": "markdown",
   "metadata": {},
   "source": [
    "# Miary\n",
    "---\n",
    "obliczenie miar zagregowanych (X) dla całej sieci\n",
    "\n",
    "korzysta z plików .csv obliczonych w pliku `obliczenia.ipynb`"
   ]
  },
  {
   "cell_type": "code",
   "execution_count": 18,
   "metadata": {},
   "outputs": [],
   "source": [
    "import pandas as pd\n",
    "import numpy as np"
   ]
  },
  {
   "cell_type": "markdown",
   "metadata": {},
   "source": [
    "#### parametrty do scenariuszy"
   ]
  },
  {
   "cell_type": "code",
   "execution_count": 2,
   "metadata": {},
   "outputs": [],
   "source": [
    "Bs= [60, 75, 90, 105, 120] \n",
    "t_ks =[30,40,50,60,70,80,90]\n",
    "modes = [\"PT\",\"Car\"]\n",
    "aggs = ['mean','min','max','std','median', 'p_25', 'p_75']"
   ]
  },
  {
   "cell_type": "code",
   "execution_count": 43,
   "metadata": {},
   "outputs": [],
   "source": [
    "def readone(ch,B,t_k,mode, agg, folder = 'data//res//'):\n",
    "    \"\"\" otworz odpowiedni plik csv i załaduj do pandas\"\"\"\n",
    "    name = \"{}_{}_{}_{}\".format(ch,mode,str(B),str(t_k))\n",
    "    path = folder+'A_i_'+name+\".csv\"  \n",
    "    df = pd.read_csv(path, index_col=0)\n",
    "    return df['A_i_'+name+agg]\n",
    "\n",
    "def X(ch,B,t_k):\n",
    "    \"\"\" otworz dla pliki csv i oblicz miatę X dla odpowiednich parametrów\"\"\"\n",
    "    a = readone(ch,B,t_k,modes[0],aggs[0])\n",
    "    b = readone(ch,B,t_k,modes[1],aggs[0])\n",
    "    i = a.index.union(b.index)\n",
    "    a = a.reindex(i).fillna(0)\n",
    "    b = b.reindex(i).fillna(0)\n",
    "    df =  pd.DataFrame((a - b)/(a  + b ))\n",
    "    df.columns=['mean']\n",
    "    for agg in aggs[1:]:\n",
    "        a = readone(ch,B,t_k,modes[0],agg)\n",
    "        b = readone(ch,B,t_k,modes[1],agg)\n",
    "        i = a.index.union(b.index)\n",
    "        a = a.reindex(i).fillna(0)\n",
    "        b = b.reindex(i).fillna(0)\n",
    "        df[agg] = (a - b)/(a  + b )\n",
    "    return df\n",
    "    "
   ]
  },
  {
   "cell_type": "markdown",
   "metadata": {},
   "source": [
    "#### pętla dla wszysctkich scenariuszy \n",
    "* załaduj pliki\n",
    "* oblicz miarę\n",
    "* zapisz plik"
   ]
  },
  {
   "cell_type": "code",
   "execution_count": 45,
   "metadata": {},
   "outputs": [],
   "source": [
    "for ch in [\"C\",\"H\"]:\n",
    "    for B in Bs:\n",
    "        for t_k in t_ks:\n",
    "            if B>t_k:\n",
    "                folder = 'data//res//'\n",
    "                name = \"{}_{}_{}\".format(ch,str(B),str(t_k))\n",
    "                path = folder+'X_'+name+\".csv\" \n",
    "                X(ch,B,t_k).to_csv(path, sep = \";\")\n",
    "                "
   ]
  },
  {
   "cell_type": "markdown",
   "metadata": {},
   "source": [
    "----"
   ]
  }
 ],
 "metadata": {
  "kernelspec": {
   "display_name": "Python 2",
   "language": "python",
   "name": "python2"
  },
  "language_info": {
   "codemirror_mode": {
    "name": "ipython",
    "version": 2
   },
   "file_extension": ".py",
   "mimetype": "text/x-python",
   "name": "python",
   "nbconvert_exporter": "python",
   "pygments_lexer": "ipython2",
   "version": "2.7.15"
  }
 },
 "nbformat": 4,
 "nbformat_minor": 2
}
