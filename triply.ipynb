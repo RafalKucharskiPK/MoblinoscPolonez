{
 "cells": [
  {
   "cell_type": "markdown",
   "id": "55929542-9e18-4b97-99d8-3a8fc8c93d67",
   "metadata": {},
   "source": [
    "# Doubly constrained gravity model\n",
    "\n",
    "For a given:\n",
    "* set of origins $i$ and destinations $j$ \n",
    "* production at origins vector $O_i$\n",
    "* attraction at destinations vector $D_j$\n",
    "* distance (cost) matrix between origins and destinations $C_{ij}$\n",
    "* cost function for the decay/gravity function $T_{ij}=exp(-\\beta C_{ij})$\n",
    "\n",
    "Compute:\n",
    "* trip matrix $T_{ij}$ such that\n",
    "* $\\sum_{i \\in O} T_{ij} = O_i \\forall j \\in O$\n",
    "* $\\sum_{j \\in D} T_{ij} = D_i \\forall i \\in D $\n"
   ]
  },
  {
   "cell_type": "code",
   "execution_count": 87,
   "id": "1617a050-2141-4f97-849e-9ce4b186a390",
   "metadata": {},
   "outputs": [],
   "source": [
    "%load_ext autoreload\n",
    "%autoreload 2"
   ]
  },
  {
   "cell_type": "code",
   "execution_count": 73,
   "id": "17416f4f-ac0c-4b78-b745-f9494b50ebdf",
   "metadata": {},
   "outputs": [],
   "source": [
    "import osmnx as ox\n",
    "import networkx as nx\n",
    "import pandas as pd\n",
    "import numpy as np\n",
    "import matplotlib.pyplot as plt\n",
    "from dotmap import DotMap\n",
    "import os\n",
    "import math"
   ]
  },
  {
   "cell_type": "code",
   "execution_count": 115,
   "id": "fedb8e96-9838-485c-8f6e-e7b28662447c",
   "metadata": {},
   "outputs": [],
   "source": [
    "from triply import *"
   ]
  },
  {
   "cell_type": "code",
   "execution_count": 119,
   "id": "76835884-9a36-408e-970b-37dc13318f25",
   "metadata": {},
   "outputs": [
    {
     "name": "stderr",
     "output_type": "stream",
     "text": [
      "/opt/anaconda3/envs/ExMAS/lib/python3.8/site-packages/pandas/core/arraylike.py:397: RuntimeWarning: divide by zero encountered in reciprocal\n",
      "  result = getattr(ufunc, method)(*inputs, **kwargs)\n",
      "/opt/anaconda3/envs/ExMAS/lib/python3.8/site-packages/pandas/core/arraylike.py:397: RuntimeWarning: divide by zero encountered in reciprocal\n",
      "  result = getattr(ufunc, method)(*inputs, **kwargs)\n",
      "/opt/anaconda3/envs/ExMAS/lib/python3.8/site-packages/pandas/core/arraylike.py:397: RuntimeWarning: divide by zero encountered in reciprocal\n",
      "  result = getattr(ufunc, method)(*inputs, **kwargs)\n"
     ]
    },
    {
     "name": "stdout",
     "output_type": "stream",
     "text": [
      "11-03-22 13:53:46-CRITICAL-Outer ite: 0\t error:4244515.58\t\n"
     ]
    },
    {
     "name": "stderr",
     "output_type": "stream",
     "text": [
      "/opt/anaconda3/envs/ExMAS/lib/python3.8/site-packages/pandas/core/arraylike.py:397: RuntimeWarning: divide by zero encountered in reciprocal\n",
      "  result = getattr(ufunc, method)(*inputs, **kwargs)\n",
      "/opt/anaconda3/envs/ExMAS/lib/python3.8/site-packages/pandas/core/arraylike.py:397: RuntimeWarning: divide by zero encountered in reciprocal\n",
      "  result = getattr(ufunc, method)(*inputs, **kwargs)\n",
      "/opt/anaconda3/envs/ExMAS/lib/python3.8/site-packages/pandas/core/arraylike.py:397: RuntimeWarning: divide by zero encountered in reciprocal\n",
      "  result = getattr(ufunc, method)(*inputs, **kwargs)\n"
     ]
    },
    {
     "name": "stdout",
     "output_type": "stream",
     "text": [
      "11-03-22 13:53:48-CRITICAL-Outer ite: 1\t error:75013.07\t\n"
     ]
    },
    {
     "name": "stderr",
     "output_type": "stream",
     "text": [
      "/opt/anaconda3/envs/ExMAS/lib/python3.8/site-packages/pandas/core/arraylike.py:397: RuntimeWarning: divide by zero encountered in reciprocal\n",
      "  result = getattr(ufunc, method)(*inputs, **kwargs)\n",
      "/opt/anaconda3/envs/ExMAS/lib/python3.8/site-packages/pandas/core/arraylike.py:397: RuntimeWarning: divide by zero encountered in reciprocal\n",
      "  result = getattr(ufunc, method)(*inputs, **kwargs)\n"
     ]
    },
    {
     "name": "stdout",
     "output_type": "stream",
     "text": [
      "11-03-22 13:53:49-CRITICAL-Outer ite: 2\t error:2295.01\t\n"
     ]
    },
    {
     "name": "stderr",
     "output_type": "stream",
     "text": [
      "/opt/anaconda3/envs/ExMAS/lib/python3.8/site-packages/pandas/core/arraylike.py:397: RuntimeWarning: divide by zero encountered in reciprocal\n",
      "  result = getattr(ufunc, method)(*inputs, **kwargs)\n",
      "/opt/anaconda3/envs/ExMAS/lib/python3.8/site-packages/pandas/core/arraylike.py:397: RuntimeWarning: divide by zero encountered in reciprocal\n",
      "  result = getattr(ufunc, method)(*inputs, **kwargs)\n",
      "/opt/anaconda3/envs/ExMAS/lib/python3.8/site-packages/pandas/core/arraylike.py:397: RuntimeWarning: divide by zero encountered in reciprocal\n",
      "  result = getattr(ufunc, method)(*inputs, **kwargs)\n",
      "/opt/anaconda3/envs/ExMAS/lib/python3.8/site-packages/pandas/core/arraylike.py:397: RuntimeWarning: divide by zero encountered in reciprocal\n",
      "  result = getattr(ufunc, method)(*inputs, **kwargs)\n"
     ]
    },
    {
     "name": "stdout",
     "output_type": "stream",
     "text": [
      "11-03-22 13:53:51-CRITICAL-Outer ite: 3\t error:142.19\t\n"
     ]
    },
    {
     "name": "stderr",
     "output_type": "stream",
     "text": [
      "/opt/anaconda3/envs/ExMAS/lib/python3.8/site-packages/pandas/core/arraylike.py:397: RuntimeWarning: divide by zero encountered in reciprocal\n",
      "  result = getattr(ufunc, method)(*inputs, **kwargs)\n",
      "/opt/anaconda3/envs/ExMAS/lib/python3.8/site-packages/pandas/core/arraylike.py:397: RuntimeWarning: divide by zero encountered in reciprocal\n",
      "  result = getattr(ufunc, method)(*inputs, **kwargs)\n"
     ]
    },
    {
     "name": "stdout",
     "output_type": "stream",
     "text": [
      "11-03-22 13:53:52-CRITICAL-Outer ite: 4\t error:9.59\t\n"
     ]
    },
    {
     "name": "stderr",
     "output_type": "stream",
     "text": [
      "/opt/anaconda3/envs/ExMAS/lib/python3.8/site-packages/pandas/core/arraylike.py:397: RuntimeWarning: divide by zero encountered in reciprocal\n",
      "  result = getattr(ufunc, method)(*inputs, **kwargs)\n",
      "/opt/anaconda3/envs/ExMAS/lib/python3.8/site-packages/pandas/core/arraylike.py:397: RuntimeWarning: divide by zero encountered in reciprocal\n",
      "  result = getattr(ufunc, method)(*inputs, **kwargs)\n",
      "/opt/anaconda3/envs/ExMAS/lib/python3.8/site-packages/pandas/core/arraylike.py:397: RuntimeWarning: divide by zero encountered in reciprocal\n",
      "  result = getattr(ufunc, method)(*inputs, **kwargs)\n",
      "/opt/anaconda3/envs/ExMAS/lib/python3.8/site-packages/pandas/core/arraylike.py:397: RuntimeWarning: divide by zero encountered in reciprocal\n",
      "  result = getattr(ufunc, method)(*inputs, **kwargs)\n"
     ]
    },
    {
     "name": "stdout",
     "output_type": "stream",
     "text": [
      "11-03-22 13:53:54-CRITICAL-Outer ite: 5\t error:0.67\t\n"
     ]
    },
    {
     "name": "stderr",
     "output_type": "stream",
     "text": [
      "/opt/anaconda3/envs/ExMAS/lib/python3.8/site-packages/pandas/core/arraylike.py:397: RuntimeWarning: divide by zero encountered in reciprocal\n",
      "  result = getattr(ufunc, method)(*inputs, **kwargs)\n",
      "/opt/anaconda3/envs/ExMAS/lib/python3.8/site-packages/pandas/core/arraylike.py:397: RuntimeWarning: divide by zero encountered in reciprocal\n",
      "  result = getattr(ufunc, method)(*inputs, **kwargs)\n"
     ]
    },
    {
     "name": "stdout",
     "output_type": "stream",
     "text": [
      "11-03-22 13:53:55-CRITICAL-Outer ite: 6\t error:0.05\t\n"
     ]
    },
    {
     "name": "stderr",
     "output_type": "stream",
     "text": [
      "/opt/anaconda3/envs/ExMAS/lib/python3.8/site-packages/pandas/core/arraylike.py:397: RuntimeWarning: divide by zero encountered in reciprocal\n",
      "  result = getattr(ufunc, method)(*inputs, **kwargs)\n",
      "/opt/anaconda3/envs/ExMAS/lib/python3.8/site-packages/pandas/core/arraylike.py:397: RuntimeWarning: divide by zero encountered in reciprocal\n",
      "  result = getattr(ufunc, method)(*inputs, **kwargs)\n",
      "/opt/anaconda3/envs/ExMAS/lib/python3.8/site-packages/pandas/core/arraylike.py:397: RuntimeWarning: divide by zero encountered in reciprocal\n",
      "  result = getattr(ufunc, method)(*inputs, **kwargs)\n",
      "/opt/anaconda3/envs/ExMAS/lib/python3.8/site-packages/pandas/core/arraylike.py:397: RuntimeWarning: divide by zero encountered in reciprocal\n",
      "  result = getattr(ufunc, method)(*inputs, **kwargs)\n"
     ]
    },
    {
     "name": "stdout",
     "output_type": "stream",
     "text": [
      "11-03-22 13:53:57-CRITICAL-Converged Ite: 7\t error:0.01\t\n"
     ]
    }
   ],
   "source": [
    "X = pipe()"
   ]
  },
  {
   "cell_type": "code",
   "execution_count": 142,
   "id": "ff49a14f-4043-462b-9cab-119b7fde8836",
   "metadata": {},
   "outputs": [
    {
     "name": "stdout",
     "output_type": "stream",
     "text": [
      "1 59477 59477.0\n",
      "2 87185 87185.0\n",
      "3 85565 85565.0\n"
     ]
    },
    {
     "data": {
      "text/plain": [
       "0.005098773422997307"
      ]
     },
     "execution_count": 142,
     "metadata": {},
     "output_type": "execute_result"
    },
    {
     "data": {
      "image/png": "[encoded data removed]",
      "text/plain": [
       "<Figure size 720x720 with 6 Axes>"
      ]
     },
     "metadata": {
      "needs_background": "light"
     },
     "output_type": "display_data"
    }
   ],
   "source": [
    "inData = read_wichita()\n",
    "fig, ax = plt.subplots(3,2, figsize=(10,10))\n",
    "ax = ax.flatten()\n",
    "j=-1\n",
    "for k in [1,2,3]:\n",
    "    j+=1\n",
    "    Xij_k = inData['full_xij_k{}'.format(k)]\n",
    "    S = Xij_k.sum(axis=1)\n",
    "    D = Xij_k.sum(axis=0)\n",
    "    ((X[k].sum(1) - S) / S).hist(ax=ax[j]) \n",
    "    print(k, S.sum(),X[k].sum().sum())\n",
    "    j+=1\n",
    "    ((X[k].sum(0) - D) / S).hist(ax=ax[j]) \n",
    "((sum([X[k] for k in [1,2,3]])-inData.full_xij)**2).sum().sum()"
   ]
  },
  {
   "cell_type": "code",
   "execution_count": 140,
   "id": "52fae5c3-3691-482a-b930-aaa31b5bd040",
   "metadata": {},
   "outputs": [
    {
     "data": {
      "text/plain": [
       "<AxesSubplot:ylabel='Frequency'>"
      ]
     },
     "execution_count": 140,
     "metadata": {},
     "output_type": "execute_result"
    },
    {
     "data": {
      "image/png": "[encoded data removed]",
      "text/plain": [
       "<Figure size 1080x360 with 4 Axes>"
      ]
     },
     "metadata": {
      "needs_background": "light"
     },
     "output_type": "display_data"
    }
   ],
   "source": [
    "inData = read_wichita()\n",
    "fig, ax = plt.subplots(1,4, figsize=(15,5))\n",
    "ax = ax.flatten()\n",
    "j=-1\n",
    "\n",
    "\n",
    "for k in [1,2,3]:\n",
    "    j+=1\n",
    "    Xij_k = inData['full_xij_k{}'.format(k)]\n",
    "    S = Xij_k.sum(axis=1)\n",
    "    D = Xij_k.sum(axis=0)\n",
    "    H = Xij_k.stack().to_frame()\n",
    "    H.columns = ['flow']\n",
    "    H['cost'] = inData.dist.stack()\n",
    "    #H = H[H['cost']>10]\n",
    "    H['cost'].plot(kind='hist', weights = H['flow'], ax = ax[k-1], bins = 130, alpha = 0.2) # trip distance distribution\n",
    "    H = X[k].stack().to_frame()\n",
    "    H.columns = ['flow']\n",
    "    H['cost'] = inData.dist.stack()\n",
    "    #H = H[H['cost']>10]\n",
    "    H['cost'].plot(kind='hist', weights = H['flow'], ax = ax[k-1], bins = 130, alpha = 0.2) # trip distance distribution\n",
    "Xij_k = inData['full_xij']\n",
    "S = Xij_k.sum(axis=1)\n",
    "D = Xij_k.sum(axis=0)\n",
    "H = Xij_k.stack().to_frame()\n",
    "H.columns = ['flow']\n",
    "H['cost'] = inData.dist.stack()\n",
    "#H = H[H['cost']>10]\n",
    "H['cost'].plot(kind='hist', weights = H['flow'], ax = ax[3], bins = 130, alpha = 0.2) # trip distance distribution\n",
    "    \n",
    "((sum([X[k] for k in [1,2,3]])-inData.full_xij)**2).sum().sum()\n",
    "H = sum([X[k] for k in [1,2,3]]).stack().to_frame()\n",
    "H.columns = ['flow']\n",
    "H['cost'] = inData.dist.stack()\n",
    "#H = H[H['cost']>10]\n",
    "H['cost'].plot(kind='hist', weights = H['flow'], ax = ax[3], bins = 130, alpha = 0.2) # trip distance distribution"
   ]
  },
  {
   "cell_type": "markdown",
   "id": "3874316a-0167-4b70-88d2-aa47159b5504",
   "metadata": {},
   "source": [
    "----\n",
    "(c) Rafal Kucharski, 2022"
   ]
  }
 ],
 "metadata": {
  "kernelspec": {
   "display_name": "Python 3 (ipykernel)",
   "language": "python",
   "name": "python3"
  },
  "language_info": {
   "codemirror_mode": {
    "name": "ipython",
    "version": 3
   },
   "file_extension": ".py",
   "mimetype": "text/x-python",
   "name": "python",
   "nbconvert_exporter": "python",
   "pygments_lexer": "ipython3",
   "version": "3.8.12"
  }
 },
 "nbformat": 4,
 "nbformat_minor": 5
}
