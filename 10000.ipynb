{
 "cells": [
  {
   "cell_type": "markdown",
   "metadata": {},
   "source": [
    "# Wyniki dla 10000 rekordow z calej macierzy - grudzien 2018"
   ]
  },
  {
   "cell_type": "code",
   "execution_count": 1,
   "metadata": {},
   "outputs": [],
   "source": [
    "import pandas as pd\n",
    "import matplotlib.pyplot as plt\n",
    "%matplotlib inline\n",
    "pd.options.display.float_format = '{:,.2f}'.format"
   ]
  },
  {
   "cell_type": "markdown",
   "metadata": {},
   "source": [
    "* trips"
   ]
  },
  {
   "cell_type": "code",
   "execution_count": 2,
   "metadata": {},
   "outputs": [],
   "source": [
    "trips = pd.read_csv('data//10000.csv')\n",
    "del trips['Unnamed: 0']"
   ]
  },
  {
   "cell_type": "code",
   "execution_count": 3,
   "metadata": {},
   "outputs": [
    {
     "data": {
      "text/html": [
       "<div>\n",
       "<style scoped>\n",
       "    .dataframe tbody tr th:only-of-type {\n",
       "        vertical-align: middle;\n",
       "    }\n",
       "\n",
       "    .dataframe tbody tr th {\n",
       "        vertical-align: top;\n",
       "    }\n",
       "\n",
       "    .dataframe thead th {\n",
       "        text-align: right;\n",
       "    }\n",
       "</style>\n",
       "<table border=\"1\" class=\"dataframe\">\n",
       "  <thead>\n",
       "    <tr style=\"text-align: right;\">\n",
       "      <th></th>\n",
       "      <th>Z_Rejon</th>\n",
       "      <th>POI</th>\n",
       "      <th>Do_Rejon</th>\n",
       "      <th>Czas_PrT</th>\n",
       "      <th>Czas_PuT</th>\n",
       "      <th>time_left_PrT</th>\n",
       "      <th>time_left_PuT</th>\n",
       "      <th>TripsPrT</th>\n",
       "      <th>TripsPuT</th>\n",
       "      <th>odPair</th>\n",
       "    </tr>\n",
       "  </thead>\n",
       "  <tbody>\n",
       "    <tr>\n",
       "      <th>0</th>\n",
       "      <td>1</td>\n",
       "      <td>30</td>\n",
       "      <td>1</td>\n",
       "      <td>3.40</td>\n",
       "      <td>0.20</td>\n",
       "      <td>86.24</td>\n",
       "      <td>89.44</td>\n",
       "      <td>0.04</td>\n",
       "      <td>0.05</td>\n",
       "      <td>1001</td>\n",
       "    </tr>\n",
       "    <tr>\n",
       "      <th>1</th>\n",
       "      <td>1</td>\n",
       "      <td>174</td>\n",
       "      <td>1</td>\n",
       "      <td>41.63</td>\n",
       "      <td>8.38</td>\n",
       "      <td>48.01</td>\n",
       "      <td>81.27</td>\n",
       "      <td>0.04</td>\n",
       "      <td>0.05</td>\n",
       "      <td>1001</td>\n",
       "    </tr>\n",
       "    <tr>\n",
       "      <th>2</th>\n",
       "      <td>1</td>\n",
       "      <td>178</td>\n",
       "      <td>1</td>\n",
       "      <td>38.33</td>\n",
       "      <td>6.99</td>\n",
       "      <td>51.32</td>\n",
       "      <td>82.65</td>\n",
       "      <td>0.04</td>\n",
       "      <td>0.05</td>\n",
       "      <td>1001</td>\n",
       "    </tr>\n",
       "    <tr>\n",
       "      <th>3</th>\n",
       "      <td>1</td>\n",
       "      <td>74</td>\n",
       "      <td>1</td>\n",
       "      <td>37.77</td>\n",
       "      <td>8.28</td>\n",
       "      <td>51.87</td>\n",
       "      <td>81.36</td>\n",
       "      <td>0.04</td>\n",
       "      <td>0.05</td>\n",
       "      <td>1001</td>\n",
       "    </tr>\n",
       "    <tr>\n",
       "      <th>4</th>\n",
       "      <td>1</td>\n",
       "      <td>154</td>\n",
       "      <td>1</td>\n",
       "      <td>37.84</td>\n",
       "      <td>8.31</td>\n",
       "      <td>51.80</td>\n",
       "      <td>81.33</td>\n",
       "      <td>0.04</td>\n",
       "      <td>0.05</td>\n",
       "      <td>1001</td>\n",
       "    </tr>\n",
       "  </tbody>\n",
       "</table>\n",
       "</div>"
      ],
      "text/plain": [
       "   Z_Rejon  POI  Do_Rejon  Czas_PrT  Czas_PuT  time_left_PrT  time_left_PuT  \\\n",
       "0        1   30         1      3.40      0.20          86.24          89.44   \n",
       "1        1  174         1     41.63      8.38          48.01          81.27   \n",
       "2        1  178         1     38.33      6.99          51.32          82.65   \n",
       "3        1   74         1     37.77      8.28          51.87          81.36   \n",
       "4        1  154         1     37.84      8.31          51.80          81.33   \n",
       "\n",
       "   TripsPrT  TripsPuT  odPair  \n",
       "0      0.04      0.05    1001  \n",
       "1      0.04      0.05    1001  \n",
       "2      0.04      0.05    1001  \n",
       "3      0.04      0.05    1001  \n",
       "4      0.04      0.05    1001  "
      ]
     },
     "execution_count": 3,
     "metadata": {},
     "output_type": "execute_result"
    }
   ],
   "source": [
    "trips.head() "
   ]
  },
  {
   "cell_type": "markdown",
   "metadata": {},
   "source": [
    "###  column description:\n",
    "* Z_rejon $j$\n",
    "* POI $k$\n",
    "* Do_Rejon $i$\n",
    "* Czas_PrT $c^{PrT}_{jki} = c_{jk}  + c_{k} + c_{ki}$\n",
    "* Czas_PuT $c^{PuT}_{jki}$\n",
    "* time_left_PrT $ B - c^{PrT}_{jki}$\n",
    "* time_left_PuT $ B - c^{PuT}_{jki}$\n",
    "* TripsPrT + TripsPuT = $X_{ij}$\n"
   ]
  },
  {
   "cell_type": "markdown",
   "metadata": {},
   "source": [
    "### filtr dla T_ij >0.1"
   ]
  },
  {
   "cell_type": "code",
   "execution_count": 4,
   "metadata": {},
   "outputs": [],
   "source": [
    "trips = trips[(trips.TripsPuT + trips.TripsPrT) > 0.1]\n",
    "trips = trips[trips.Czas_PrT < trips.Czas_PrT.quantile(0.95)]"
   ]
  },
  {
   "cell_type": "code",
   "execution_count": 5,
   "metadata": {},
   "outputs": [
    {
     "data": {
      "text/plain": [
       "array([[<matplotlib.axes._subplots.AxesSubplot object at 0x000000000F90D7B8>,\n",
       "        <matplotlib.axes._subplots.AxesSubplot object at 0x000000000FDC2B70>]],\n",
       "      dtype=object)"
      ]
     },
     "execution_count": 5,
     "metadata": {},
     "output_type": "execute_result"
    },
    {
     "data": {
      "image/png": "[encoded data removed]",
      "text/plain": [
       "<Figure size 432x288 with 2 Axes>"
      ]
     },
     "metadata": {},
     "output_type": "display_data"
    }
   ],
   "source": [
    "trips[['Czas_PrT','Czas_PuT']].hist()"
   ]
  },
  {
   "cell_type": "markdown",
   "metadata": {},
   "source": [
    "## prepare"
   ]
  },
  {
   "cell_type": "code",
   "execution_count": 6,
   "metadata": {},
   "outputs": [],
   "source": [
    "BUDGET_PRT = trips['Czas_PrT'].quantile(0.5) # przyjmuje ze liczy sie tylko dolna polowa czasow\n",
    "BUDGET_PUT = BUDGET_PRT\n",
    "trips['time_left_PrT']=BUDGET_PRT - trips.Czas_PrT # ile czasu zostaje ponizej budzetu w POI\n",
    "trips['time_left_PuT']=BUDGET_PUT - trips.Czas_PuT\n",
    "trips.Z_Rejon = trips.Z_Rejon.astype(int)\n",
    "trips.Do_Rejon = trips.Do_Rejon.astype(int)"
   ]
  },
  {
   "cell_type": "markdown",
   "metadata": {},
   "source": [
    "# OD pairs-based analysis:\n",
    "## 1. number of POI available (nPOIs.csv)\n",
    "- total minutes\n",
    "- mean/median minutes"
   ]
  },
  {
   "cell_type": "code",
   "execution_count": 9,
   "metadata": {},
   "outputs": [
    {
     "name": "stdout",
     "output_type": "stream",
     "text": [
      "number of POIs within budget per OD Pair - PuT/PrT\n"
     ]
    },
    {
     "data": {
      "text/html": [
       "<div>\n",
       "<style scoped>\n",
       "    .dataframe tbody tr th:only-of-type {\n",
       "        vertical-align: middle;\n",
       "    }\n",
       "\n",
       "    .dataframe tbody tr th {\n",
       "        vertical-align: top;\n",
       "    }\n",
       "\n",
       "    .dataframe thead th {\n",
       "        text-align: right;\n",
       "    }\n",
       "</style>\n",
       "<table border=\"1\" class=\"dataframe\">\n",
       "  <thead>\n",
       "    <tr style=\"text-align: right;\">\n",
       "      <th></th>\n",
       "      <th>Z_Rejon</th>\n",
       "      <th>Do_Rejon</th>\n",
       "      <th>nPOIsPRT</th>\n",
       "      <th>nPOIsPUT</th>\n",
       "    </tr>\n",
       "  </thead>\n",
       "  <tbody>\n",
       "    <tr>\n",
       "      <th>0</th>\n",
       "      <td>1</td>\n",
       "      <td>6</td>\n",
       "      <td>97</td>\n",
       "      <td>130</td>\n",
       "    </tr>\n",
       "    <tr>\n",
       "      <th>1</th>\n",
       "      <td>1</td>\n",
       "      <td>111</td>\n",
       "      <td>88</td>\n",
       "      <td>128</td>\n",
       "    </tr>\n",
       "    <tr>\n",
       "      <th>2</th>\n",
       "      <td>1</td>\n",
       "      <td>114</td>\n",
       "      <td>81</td>\n",
       "      <td>128</td>\n",
       "    </tr>\n",
       "    <tr>\n",
       "      <th>3</th>\n",
       "      <td>1</td>\n",
       "      <td>117</td>\n",
       "      <td>72</td>\n",
       "      <td>127</td>\n",
       "    </tr>\n",
       "    <tr>\n",
       "      <th>4</th>\n",
       "      <td>1</td>\n",
       "      <td>118</td>\n",
       "      <td>77</td>\n",
       "      <td>128</td>\n",
       "    </tr>\n",
       "  </tbody>\n",
       "</table>\n",
       "</div>"
      ],
      "text/plain": [
       "   Z_Rejon  Do_Rejon  nPOIsPRT  nPOIsPUT\n",
       "0        1         6        97       130\n",
       "1        1       111        88       128\n",
       "2        1       114        81       128\n",
       "3        1       117        72       127\n",
       "4        1       118        77       128"
      ]
     },
     "execution_count": 9,
     "metadata": {},
     "output_type": "execute_result"
    }
   ],
   "source": [
    "print('number of POIs within budget per OD Pair - PuT/PrT')\n",
    "nPOIs = trips[trips.Czas_PrT<BUDGET_PRT].groupby(by=['Z_Rejon',\"Do_Rejon\"])['POI'].nunique().to_frame('nPOIsPRT')\n",
    "nPOIs['nPOIsPUT'] = trips[trips.Czas_PuT<BUDGET_PUT].groupby(by=['Z_Rejon',\"Do_Rejon\"])['POI'].nunique()\n",
    "nPOIs = nPOIs.reset_index()\n",
    "nPOIs.head()"
   ]
  },
  {
   "cell_type": "markdown",
   "metadata": {},
   "source": [
    "###  nPOIS.csv column description:\n",
    "* Z_Rejon $j$\n",
    "* Do_Rejon $i$\n",
    "* nPOIsPRT - liczba $k$ dla których $c^{PrT}_{jki}<B$\n",
    "* nPOIsPuT - liczba $k$ dla których $c^{PuT}_{jki}<B$"
   ]
  },
  {
   "cell_type": "markdown",
   "metadata": {},
   "source": [
    "## 2. mean/median time available (times.csv)"
   ]
  },
  {
   "cell_type": "code",
   "execution_count": 10,
   "metadata": {},
   "outputs": [
    {
     "name": "stdout",
     "output_type": "stream",
     "text": [
      "time per OD pair  PrT\n"
     ]
    },
    {
     "data": {
      "text/html": [
       "<div>\n",
       "<style scoped>\n",
       "    .dataframe tbody tr th:only-of-type {\n",
       "        vertical-align: middle;\n",
       "    }\n",
       "\n",
       "    .dataframe tbody tr th {\n",
       "        vertical-align: top;\n",
       "    }\n",
       "\n",
       "    .dataframe thead tr th {\n",
       "        text-align: left;\n",
       "    }\n",
       "</style>\n",
       "<table border=\"1\" class=\"dataframe\">\n",
       "  <thead>\n",
       "    <tr>\n",
       "      <th></th>\n",
       "      <th>Z_Rejon</th>\n",
       "      <th>Do_Rejon</th>\n",
       "      <th colspan=\"3\" halign=\"left\">Czas_PrT</th>\n",
       "      <th colspan=\"3\" halign=\"left\">time_left_PrT</th>\n",
       "    </tr>\n",
       "    <tr>\n",
       "      <th></th>\n",
       "      <th></th>\n",
       "      <th></th>\n",
       "      <th>sum</th>\n",
       "      <th>mean</th>\n",
       "      <th>median</th>\n",
       "      <th>sum</th>\n",
       "      <th>mean</th>\n",
       "      <th>median</th>\n",
       "    </tr>\n",
       "  </thead>\n",
       "  <tbody>\n",
       "    <tr>\n",
       "      <th>0</th>\n",
       "      <td>1</td>\n",
       "      <td>6</td>\n",
       "      <td>5,002.20</td>\n",
       "      <td>51.57</td>\n",
       "      <td>51.74</td>\n",
       "      <td>1,517.66</td>\n",
       "      <td>15.65</td>\n",
       "      <td>15.48</td>\n",
       "    </tr>\n",
       "    <tr>\n",
       "      <th>1</th>\n",
       "      <td>1</td>\n",
       "      <td>111</td>\n",
       "      <td>4,922.16</td>\n",
       "      <td>55.93</td>\n",
       "      <td>60.66</td>\n",
       "      <td>992.76</td>\n",
       "      <td>11.28</td>\n",
       "      <td>6.56</td>\n",
       "    </tr>\n",
       "    <tr>\n",
       "      <th>2</th>\n",
       "      <td>1</td>\n",
       "      <td>114</td>\n",
       "      <td>4,626.30</td>\n",
       "      <td>57.11</td>\n",
       "      <td>60.85</td>\n",
       "      <td>818.11</td>\n",
       "      <td>10.10</td>\n",
       "      <td>6.36</td>\n",
       "    </tr>\n",
       "    <tr>\n",
       "      <th>3</th>\n",
       "      <td>1</td>\n",
       "      <td>117</td>\n",
       "      <td>4,094.36</td>\n",
       "      <td>56.87</td>\n",
       "      <td>61.08</td>\n",
       "      <td>745.12</td>\n",
       "      <td>10.35</td>\n",
       "      <td>6.14</td>\n",
       "    </tr>\n",
       "    <tr>\n",
       "      <th>4</th>\n",
       "      <td>1</td>\n",
       "      <td>118</td>\n",
       "      <td>4,481.52</td>\n",
       "      <td>58.20</td>\n",
       "      <td>61.74</td>\n",
       "      <td>694.04</td>\n",
       "      <td>9.01</td>\n",
       "      <td>5.48</td>\n",
       "    </tr>\n",
       "  </tbody>\n",
       "</table>\n",
       "</div>"
      ],
      "text/plain": [
       "  Z_Rejon Do_Rejon Czas_PrT              time_left_PrT             \n",
       "                        sum  mean median           sum  mean median\n",
       "0       1        6 5,002.20 51.57  51.74      1,517.66 15.65  15.48\n",
       "1       1      111 4,922.16 55.93  60.66        992.76 11.28   6.56\n",
       "2       1      114 4,626.30 57.11  60.85        818.11 10.10   6.36\n",
       "3       1      117 4,094.36 56.87  61.08        745.12 10.35   6.14\n",
       "4       1      118 4,481.52 58.20  61.74        694.04  9.01   5.48"
      ]
     },
     "execution_count": 10,
     "metadata": {},
     "output_type": "execute_result"
    }
   ],
   "source": [
    "print(\"time per OD pair  PrT\")\n",
    "t1 = trips[trips.Czas_PrT<BUDGET_PRT].groupby(\n",
    "    by=['Z_Rejon',\"Do_Rejon\"])['Czas_PrT', 'time_left_PrT'].agg(['sum','mean','median']).reset_index()\n",
    "t2.to_csv('data//timesPuT.csv')\n",
    "t1.head()"
   ]
  },
  {
   "cell_type": "code",
   "execution_count": 11,
   "metadata": {},
   "outputs": [
    {
     "name": "stdout",
     "output_type": "stream",
     "text": [
      "time per OD pair PuT\n"
     ]
    },
    {
     "data": {
      "text/html": [
       "<div>\n",
       "<style scoped>\n",
       "    .dataframe tbody tr th:only-of-type {\n",
       "        vertical-align: middle;\n",
       "    }\n",
       "\n",
       "    .dataframe tbody tr th {\n",
       "        vertical-align: top;\n",
       "    }\n",
       "\n",
       "    .dataframe thead tr th {\n",
       "        text-align: left;\n",
       "    }\n",
       "</style>\n",
       "<table border=\"1\" class=\"dataframe\">\n",
       "  <thead>\n",
       "    <tr>\n",
       "      <th></th>\n",
       "      <th>Z_Rejon</th>\n",
       "      <th>Do_Rejon</th>\n",
       "      <th colspan=\"3\" halign=\"left\">Czas_PuT</th>\n",
       "      <th colspan=\"3\" halign=\"left\">time_left_PuT</th>\n",
       "    </tr>\n",
       "    <tr>\n",
       "      <th></th>\n",
       "      <th></th>\n",
       "      <th></th>\n",
       "      <th>sum</th>\n",
       "      <th>mean</th>\n",
       "      <th>median</th>\n",
       "      <th>sum</th>\n",
       "      <th>mean</th>\n",
       "      <th>median</th>\n",
       "    </tr>\n",
       "  </thead>\n",
       "  <tbody>\n",
       "    <tr>\n",
       "      <th>0</th>\n",
       "      <td>1</td>\n",
       "      <td>6</td>\n",
       "      <td>2,590.26</td>\n",
       "      <td>19.93</td>\n",
       "      <td>16.57</td>\n",
       "      <td>6,147.69</td>\n",
       "      <td>47.29</td>\n",
       "      <td>50.65</td>\n",
       "    </tr>\n",
       "    <tr>\n",
       "      <th>1</th>\n",
       "      <td>1</td>\n",
       "      <td>111</td>\n",
       "      <td>2,973.63</td>\n",
       "      <td>23.23</td>\n",
       "      <td>20.53</td>\n",
       "      <td>5,629.89</td>\n",
       "      <td>43.98</td>\n",
       "      <td>46.68</td>\n",
       "    </tr>\n",
       "    <tr>\n",
       "      <th>2</th>\n",
       "      <td>1</td>\n",
       "      <td>114</td>\n",
       "      <td>3,048.14</td>\n",
       "      <td>23.81</td>\n",
       "      <td>21.10</td>\n",
       "      <td>5,555.38</td>\n",
       "      <td>43.40</td>\n",
       "      <td>46.12</td>\n",
       "    </tr>\n",
       "    <tr>\n",
       "      <th>3</th>\n",
       "      <td>1</td>\n",
       "      <td>117</td>\n",
       "      <td>2,999.37</td>\n",
       "      <td>23.62</td>\n",
       "      <td>20.99</td>\n",
       "      <td>5,536.94</td>\n",
       "      <td>43.60</td>\n",
       "      <td>46.22</td>\n",
       "    </tr>\n",
       "    <tr>\n",
       "      <th>4</th>\n",
       "      <td>1</td>\n",
       "      <td>118</td>\n",
       "      <td>3,069.23</td>\n",
       "      <td>23.98</td>\n",
       "      <td>21.08</td>\n",
       "      <td>5,534.29</td>\n",
       "      <td>43.24</td>\n",
       "      <td>46.14</td>\n",
       "    </tr>\n",
       "  </tbody>\n",
       "</table>\n",
       "</div>"
      ],
      "text/plain": [
       "  Z_Rejon Do_Rejon Czas_PuT              time_left_PuT             \n",
       "                        sum  mean median           sum  mean median\n",
       "0       1        6 2,590.26 19.93  16.57      6,147.69 47.29  50.65\n",
       "1       1      111 2,973.63 23.23  20.53      5,629.89 43.98  46.68\n",
       "2       1      114 3,048.14 23.81  21.10      5,555.38 43.40  46.12\n",
       "3       1      117 2,999.37 23.62  20.99      5,536.94 43.60  46.22\n",
       "4       1      118 3,069.23 23.98  21.08      5,534.29 43.24  46.14"
      ]
     },
     "execution_count": 11,
     "metadata": {},
     "output_type": "execute_result"
    }
   ],
   "source": [
    "print(\"time per OD pair PuT\")\n",
    "t2 = trips[trips.Czas_PuT<BUDGET_PUT].groupby(\n",
    "    by=['Z_Rejon',\"Do_Rejon\"])['Czas_PuT', 'time_left_PuT'].agg(['sum','mean','median']).reset_index()\n",
    "t2.to_csv('data//timesPuT.csv')\n",
    "t2.head()"
   ]
  },
  {
   "cell_type": "markdown",
   "metadata": {},
   "source": [
    "###  column description:\n",
    "* Z_rejon $j$\n",
    "* Do_Rejon $k$\n",
    "* Czas_PuT, grupa wszystkich czasow dojazdu w relacji $jki$ dla danego $j$ oraz $i$ oraz dowolnego $k$ i dla niej: \n",
    "    * suma wszystkich czasów\n",
    "    * średnia\n",
    "    * mediana\n",
    "* time_left_PuT, grupa wszystkich pozostałych czasów dojazdu w relacja $jki$ dla których $B>0$ i pozostały czas $B - c^{PuT}_{jki}$ i dla nich:\n",
    "    * suma wszystkich czasów\n",
    "    * średnia\n",
    "    * mediana"
   ]
  },
  {
   "cell_type": "code",
   "execution_count": null,
   "metadata": {},
   "outputs": [],
   "source": []
  }
 ],
 "metadata": {
  "kernelspec": {
   "display_name": "Python 2",
   "language": "python",
   "name": "python2"
  },
  "language_info": {
   "codemirror_mode": {
    "name": "ipython",
    "version": 2
   },
   "file_extension": ".py",
   "mimetype": "text/x-python",
   "name": "python",
   "nbconvert_exporter": "python",
   "pygments_lexer": "ipython2",
   "version": "2.7.14"
  }
 },
 "nbformat": 4,
 "nbformat_minor": 1
}
