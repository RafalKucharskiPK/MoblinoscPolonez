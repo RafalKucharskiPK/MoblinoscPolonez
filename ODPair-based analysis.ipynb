{
 "cells": [
  {
   "cell_type": "markdown",
   "metadata": {},
   "source": [
    "# OD Pair based analysis"
   ]
  },
  {
   "cell_type": "code",
   "execution_count": 15,
   "metadata": {},
   "outputs": [],
   "source": [
    "import pandas as pd\n",
    "import matplotlib.pyplot as plt\n",
    "%matplotlib inline\n",
    "pd.options.display.float_format = '{:,.2f}'.format"
   ]
  },
  {
   "cell_type": "markdown",
   "metadata": {},
   "source": [
    "## read data\n",
    "* od matrices: Prt, PuT"
   ]
  },
  {
   "cell_type": "code",
   "execution_count": 16,
   "metadata": {},
   "outputs": [],
   "source": [
    "od_PuT = pd.read_csv('data//MTX_203.csv')\n",
    "del od_PuT['Unnamed: 0']\n",
    "od_PuT.columns = [int(c) for c in od_PuT.columns]\n",
    "od_PrT = pd.read_csv('data//MTX_204.csv')\n",
    "del od_PrT['Unnamed: 0']\n",
    "od_PrT.columns = [int(c) for c in od_PrT.columns]"
   ]
  },
  {
   "cell_type": "code",
   "execution_count": 17,
   "metadata": {},
   "outputs": [],
   "source": [
    "od_PrT = od_PrT.stack().reset_index()\n",
    "od_PrT.columns=['Z_Rejon',\"Do_Rejon\", 'TripsPrT']\n",
    "od_PuT = od_PuT.stack().reset_index()\n",
    "od_PuT.columns=['Z_Rejon',\"Do_Rejon\", 'TripsPuT']\n",
    "od = pd.merge(od_PrT, od_PuT, on = ['Z_Rejon', \"Do_Rejon\"])"
   ]
  },
  {
   "cell_type": "markdown",
   "metadata": {},
   "source": [
    "* trips"
   ]
  },
  {
   "cell_type": "code",
   "execution_count": 18,
   "metadata": {},
   "outputs": [],
   "source": [
    "trips = pd.read_csv('data//From_Via_To.csv')\n",
    "del trips['Unnamed: 0']"
   ]
  },
  {
   "cell_type": "markdown",
   "metadata": {},
   "source": [
    "## prepare"
   ]
  },
  {
   "cell_type": "code",
   "execution_count": 19,
   "metadata": {},
   "outputs": [],
   "source": [
    "trips.Czas_PrT = trips.Czas_PrT/60 # przeliczam na minuty\n",
    "trips.Czas_PuT = trips.Czas_PuT/60 *0.5 # tu zakladam dwa razy krotsze, dla obliczen, w Warszawie tak nie bedzie\n",
    "BUDGET_PRT = trips['Czas_PrT'].quantile(0.5) # przyjmuje ze liczy sie tylko dolna polowa czasow\n",
    "BUDGET_PUT = BUDGET_PRT #trips['Czas_PuT'].quantile(0.5) # a tu juz zakladam ze budzety sa rowne\n",
    "trips['time_left_PrT']=BUDGET_PRT - trips.Czas_PrT # ile czasu zostaje ponizej budzetu w POI\n",
    "trips['time_left_PuT']=BUDGET_PUT - trips.Czas_PuT\n",
    "trips.Z_Rejon = trips.Z_Rejon.astype(int)\n",
    "trips.Do_Rejon = trips.Do_Rejon.astype(int)\n",
    "pd.options.display.float_format = '{:,.1f}'.format"
   ]
  },
  {
   "cell_type": "code",
   "execution_count": 20,
   "metadata": {},
   "outputs": [],
   "source": [
    "trips = pd.merge(trips,od, on = ['Z_Rejon',\"Do_Rejon\"])\n",
    "trips['odPair'] = trips[\"Z_Rejon\"].astype(int)*1000+trips[\"Do_Rejon\"].astype(int)"
   ]
  },
  {
   "cell_type": "markdown",
   "metadata": {},
   "source": [
    "# OD pairs-based analysis:\n",
    "## number of POI available\n",
    "- total minutes\n",
    "- mean/median minutes"
   ]
  },
  {
   "cell_type": "code",
   "execution_count": 21,
   "metadata": {},
   "outputs": [
    {
     "name": "stdout",
     "output_type": "stream",
     "text": [
      "number of POIs within budget per OD Pair - PuT/PrT\n"
     ]
    },
    {
     "data": {
      "text/html": [
       "<div>\n",
       "<style scoped>\n",
       "    .dataframe tbody tr th:only-of-type {\n",
       "        vertical-align: middle;\n",
       "    }\n",
       "\n",
       "    .dataframe tbody tr th {\n",
       "        vertical-align: top;\n",
       "    }\n",
       "\n",
       "    .dataframe thead th {\n",
       "        text-align: right;\n",
       "    }\n",
       "</style>\n",
       "<table border=\"1\" class=\"dataframe\">\n",
       "  <thead>\n",
       "    <tr style=\"text-align: right;\">\n",
       "      <th></th>\n",
       "      <th>Z_Rejon</th>\n",
       "      <th>Do_Rejon</th>\n",
       "      <th>nPOIsPRT</th>\n",
       "      <th>nPOIsPUT</th>\n",
       "    </tr>\n",
       "  </thead>\n",
       "  <tbody>\n",
       "    <tr>\n",
       "      <th>0</th>\n",
       "      <td>1</td>\n",
       "      <td>1</td>\n",
       "      <td>21</td>\n",
       "      <td>1.0</td>\n",
       "    </tr>\n",
       "    <tr>\n",
       "      <th>1</th>\n",
       "      <td>1</td>\n",
       "      <td>2</td>\n",
       "      <td>26</td>\n",
       "      <td>1.0</td>\n",
       "    </tr>\n",
       "    <tr>\n",
       "      <th>2</th>\n",
       "      <td>1</td>\n",
       "      <td>3</td>\n",
       "      <td>26</td>\n",
       "      <td>nan</td>\n",
       "    </tr>\n",
       "    <tr>\n",
       "      <th>3</th>\n",
       "      <td>1</td>\n",
       "      <td>4</td>\n",
       "      <td>26</td>\n",
       "      <td>nan</td>\n",
       "    </tr>\n",
       "    <tr>\n",
       "      <th>4</th>\n",
       "      <td>1</td>\n",
       "      <td>5</td>\n",
       "      <td>20</td>\n",
       "      <td>nan</td>\n",
       "    </tr>\n",
       "  </tbody>\n",
       "</table>\n",
       "</div>"
      ],
      "text/plain": [
       "   Z_Rejon  Do_Rejon  nPOIsPRT  nPOIsPUT\n",
       "0        1         1        21       1.0\n",
       "1        1         2        26       1.0\n",
       "2        1         3        26       nan\n",
       "3        1         4        26       nan\n",
       "4        1         5        20       nan"
      ]
     },
     "execution_count": 21,
     "metadata": {},
     "output_type": "execute_result"
    }
   ],
   "source": [
    "print('number of POIs within budget per OD Pair - PuT/PrT')\n",
    "nPOIs = trips[trips.Czas_PrT<BUDGET_PRT].groupby(by=['Z_Rejon',\"Do_Rejon\"])['POI'].nunique().to_frame('nPOIsPRT')\n",
    "nPOIs['nPOIsPUT'] = trips[trips.Czas_PuT<BUDGET_PUT].groupby(by=['Z_Rejon',\"Do_Rejon\"])['POI'].nunique()\n",
    "nPOIs.reset_index().head()"
   ]
  },
  {
   "cell_type": "markdown",
   "metadata": {},
   "source": [
    "## mean/median time available"
   ]
  },
  {
   "cell_type": "code",
   "execution_count": 22,
   "metadata": {},
   "outputs": [
    {
     "name": "stdout",
     "output_type": "stream",
     "text": [
      "time per OD pair  PrT\n"
     ]
    },
    {
     "data": {
      "text/html": [
       "<div>\n",
       "<style scoped>\n",
       "    .dataframe tbody tr th:only-of-type {\n",
       "        vertical-align: middle;\n",
       "    }\n",
       "\n",
       "    .dataframe tbody tr th {\n",
       "        vertical-align: top;\n",
       "    }\n",
       "\n",
       "    .dataframe thead tr th {\n",
       "        text-align: left;\n",
       "    }\n",
       "</style>\n",
       "<table border=\"1\" class=\"dataframe\">\n",
       "  <thead>\n",
       "    <tr>\n",
       "      <th></th>\n",
       "      <th>Z_Rejon</th>\n",
       "      <th>Do_Rejon</th>\n",
       "      <th colspan=\"3\" halign=\"left\">Czas_PrT</th>\n",
       "      <th colspan=\"3\" halign=\"left\">time_left_PrT</th>\n",
       "    </tr>\n",
       "    <tr>\n",
       "      <th></th>\n",
       "      <th></th>\n",
       "      <th></th>\n",
       "      <th>sum</th>\n",
       "      <th>mean</th>\n",
       "      <th>median</th>\n",
       "      <th>sum</th>\n",
       "      <th>mean</th>\n",
       "      <th>median</th>\n",
       "    </tr>\n",
       "  </thead>\n",
       "  <tbody>\n",
       "    <tr>\n",
       "      <th>0</th>\n",
       "      <td>1</td>\n",
       "      <td>1</td>\n",
       "      <td>166.6</td>\n",
       "      <td>7.9</td>\n",
       "      <td>7.9</td>\n",
       "      <td>83.2</td>\n",
       "      <td>4.0</td>\n",
       "      <td>4.0</td>\n",
       "    </tr>\n",
       "    <tr>\n",
       "      <th>1</th>\n",
       "      <td>1</td>\n",
       "      <td>2</td>\n",
       "      <td>224.7</td>\n",
       "      <td>8.6</td>\n",
       "      <td>9.0</td>\n",
       "      <td>84.5</td>\n",
       "      <td>3.3</td>\n",
       "      <td>2.9</td>\n",
       "    </tr>\n",
       "    <tr>\n",
       "      <th>2</th>\n",
       "      <td>1</td>\n",
       "      <td>3</td>\n",
       "      <td>227.8</td>\n",
       "      <td>8.8</td>\n",
       "      <td>9.1</td>\n",
       "      <td>81.5</td>\n",
       "      <td>3.1</td>\n",
       "      <td>2.8</td>\n",
       "    </tr>\n",
       "    <tr>\n",
       "      <th>3</th>\n",
       "      <td>1</td>\n",
       "      <td>4</td>\n",
       "      <td>242.7</td>\n",
       "      <td>9.3</td>\n",
       "      <td>9.2</td>\n",
       "      <td>66.5</td>\n",
       "      <td>2.6</td>\n",
       "      <td>2.7</td>\n",
       "    </tr>\n",
       "    <tr>\n",
       "      <th>4</th>\n",
       "      <td>1</td>\n",
       "      <td>5</td>\n",
       "      <td>183.4</td>\n",
       "      <td>9.2</td>\n",
       "      <td>9.0</td>\n",
       "      <td>54.5</td>\n",
       "      <td>2.7</td>\n",
       "      <td>2.9</td>\n",
       "    </tr>\n",
       "  </tbody>\n",
       "</table>\n",
       "</div>"
      ],
      "text/plain": [
       "  Z_Rejon Do_Rejon Czas_PrT             time_left_PrT            \n",
       "                        sum mean median           sum mean median\n",
       "0       1        1    166.6  7.9    7.9          83.2  4.0    4.0\n",
       "1       1        2    224.7  8.6    9.0          84.5  3.3    2.9\n",
       "2       1        3    227.8  8.8    9.1          81.5  3.1    2.8\n",
       "3       1        4    242.7  9.3    9.2          66.5  2.6    2.7\n",
       "4       1        5    183.4  9.2    9.0          54.5  2.7    2.9"
      ]
     },
     "execution_count": 22,
     "metadata": {},
     "output_type": "execute_result"
    }
   ],
   "source": [
    "print(\"time per OD pair  PrT\")\n",
    "t = trips[trips.Czas_PrT<BUDGET_PRT].groupby(\n",
    "    by=['Z_Rejon',\"Do_Rejon\"])['Czas_PrT', 'time_left_PrT'].agg(['sum','mean','median']).reset_index()\n",
    "t.head()"
   ]
  },
  {
   "cell_type": "code",
   "execution_count": 23,
   "metadata": {},
   "outputs": [
    {
     "name": "stdout",
     "output_type": "stream",
     "text": [
      "time per OD pair PuT\n"
     ]
    },
    {
     "data": {
      "text/html": [
       "<div>\n",
       "<style scoped>\n",
       "    .dataframe tbody tr th:only-of-type {\n",
       "        vertical-align: middle;\n",
       "    }\n",
       "\n",
       "    .dataframe tbody tr th {\n",
       "        vertical-align: top;\n",
       "    }\n",
       "\n",
       "    .dataframe thead tr th {\n",
       "        text-align: left;\n",
       "    }\n",
       "</style>\n",
       "<table border=\"1\" class=\"dataframe\">\n",
       "  <thead>\n",
       "    <tr>\n",
       "      <th></th>\n",
       "      <th>Z_Rejon</th>\n",
       "      <th>Do_Rejon</th>\n",
       "      <th colspan=\"3\" halign=\"left\">Czas_PuT</th>\n",
       "      <th colspan=\"3\" halign=\"left\">time_left_PuT</th>\n",
       "    </tr>\n",
       "    <tr>\n",
       "      <th></th>\n",
       "      <th></th>\n",
       "      <th></th>\n",
       "      <th>sum</th>\n",
       "      <th>mean</th>\n",
       "      <th>median</th>\n",
       "      <th>sum</th>\n",
       "      <th>mean</th>\n",
       "      <th>median</th>\n",
       "    </tr>\n",
       "  </thead>\n",
       "  <tbody>\n",
       "    <tr>\n",
       "      <th>0</th>\n",
       "      <td>1</td>\n",
       "      <td>1</td>\n",
       "      <td>11.5</td>\n",
       "      <td>11.5</td>\n",
       "      <td>11.5</td>\n",
       "      <td>0.4</td>\n",
       "      <td>0.4</td>\n",
       "      <td>0.4</td>\n",
       "    </tr>\n",
       "    <tr>\n",
       "      <th>1</th>\n",
       "      <td>1</td>\n",
       "      <td>2</td>\n",
       "      <td>11.8</td>\n",
       "      <td>11.8</td>\n",
       "      <td>11.8</td>\n",
       "      <td>0.1</td>\n",
       "      <td>0.1</td>\n",
       "      <td>0.1</td>\n",
       "    </tr>\n",
       "    <tr>\n",
       "      <th>2</th>\n",
       "      <td>1</td>\n",
       "      <td>10</td>\n",
       "      <td>33.5</td>\n",
       "      <td>11.2</td>\n",
       "      <td>11.3</td>\n",
       "      <td>2.1</td>\n",
       "      <td>0.7</td>\n",
       "      <td>0.6</td>\n",
       "    </tr>\n",
       "    <tr>\n",
       "      <th>3</th>\n",
       "      <td>1</td>\n",
       "      <td>13</td>\n",
       "      <td>11.8</td>\n",
       "      <td>11.8</td>\n",
       "      <td>11.8</td>\n",
       "      <td>0.1</td>\n",
       "      <td>0.1</td>\n",
       "      <td>0.1</td>\n",
       "    </tr>\n",
       "    <tr>\n",
       "      <th>4</th>\n",
       "      <td>1</td>\n",
       "      <td>15</td>\n",
       "      <td>56.3</td>\n",
       "      <td>11.3</td>\n",
       "      <td>11.4</td>\n",
       "      <td>3.2</td>\n",
       "      <td>0.6</td>\n",
       "      <td>0.5</td>\n",
       "    </tr>\n",
       "  </tbody>\n",
       "</table>\n",
       "</div>"
      ],
      "text/plain": [
       "  Z_Rejon Do_Rejon Czas_PuT             time_left_PuT            \n",
       "                        sum mean median           sum mean median\n",
       "0       1        1     11.5 11.5   11.5           0.4  0.4    0.4\n",
       "1       1        2     11.8 11.8   11.8           0.1  0.1    0.1\n",
       "2       1       10     33.5 11.2   11.3           2.1  0.7    0.6\n",
       "3       1       13     11.8 11.8   11.8           0.1  0.1    0.1\n",
       "4       1       15     56.3 11.3   11.4           3.2  0.6    0.5"
      ]
     },
     "execution_count": 23,
     "metadata": {},
     "output_type": "execute_result"
    }
   ],
   "source": [
    "print(\"time per OD pair PuT\")\n",
    "t = trips[trips.Czas_PuT<BUDGET_PUT].groupby(\n",
    "    by=['Z_Rejon',\"Do_Rejon\"])['Czas_PuT', 'time_left_PuT'].agg(['sum','mean','median']).reset_index()\n",
    "t.head()"
   ]
  }
 ],
 "metadata": {
  "kernelspec": {
   "display_name": "Python 3",
   "language": "python",
   "name": "python3"
  },
  "language_info": {
   "codemirror_mode": {
    "name": "ipython",
    "version": 3
   },
   "file_extension": ".py",
   "mimetype": "text/x-python",
   "name": "python",
   "nbconvert_exporter": "python",
   "pygments_lexer": "ipython3",
   "version": "3.5.5"
  }
 },
 "nbformat": 4,
 "nbformat_minor": 1
}
