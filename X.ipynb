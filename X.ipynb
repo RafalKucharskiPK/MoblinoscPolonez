{
 "cells": [
  {
   "cell_type": "code",
   "execution_count": 1,
   "metadata": {},
   "outputs": [],
   "source": [
    "import pandas as pd"
   ]
  },
  {
   "cell_type": "code",
   "execution_count": 2,
   "metadata": {},
   "outputs": [],
   "source": [
    "Bs= [60, 75, 90, 105, 120] \n",
    "t_ks =[30,40,50,60,70,80,90]\n",
    "modes = [\"PT\",\"Car\"]\n",
    "aggs = ['mean','min','max','std','median', 'p_25', 'p_75']"
   ]
  },
  {
   "cell_type": "code",
   "execution_count": 3,
   "metadata": {},
   "outputs": [],
   "source": [
    "def readone(ch,B,t_k,mode, agg, folder = 'data//res//'):\n",
    "    name = \"{}_{}_{}_{}\".format(ch,mode,str(B),str(t_k))\n",
    "    path = folder+'A_i_'+name+\".csv\"  \n",
    "    df = pd.read_csv(path, index_col=0)\n",
    "    return df['A_i_'+name+agg]\n",
    "\n",
    "def X(ch,B,t_k,agg):\n",
    "    a = readone(ch,B,t_k,modes[0],agg)\n",
    "    b = readone(ch,B,t_k,modes[1],agg)\n",
    "    return pd.DataFrame((a - b)/(a  + b ))"
   ]
  },
  {
   "cell_type": "code",
   "execution_count": 4,
   "metadata": {},
   "outputs": [],
   "source": [
    "for ch in [\"C\",\"H\"]:\n",
    "    for B in Bs:\n",
    "        for t_k in t_ks:\n",
    "            if B>t_k:\n",
    "                for agg in aggs:\n",
    "                    folder = 'data//res//'\n",
    "                    name = \"{}_{}_{}_{}\".format(ch,str(B),str(t_k), agg)\n",
    "                    path = folder+'X_'+name+\".csv\" \n",
    "                    X(ch,B,t_k,agg).to_csv(path)"
   ]
  }
 ],
 "metadata": {
  "kernelspec": {
   "display_name": "Python 2",
   "language": "python",
   "name": "python2"
  },
  "language_info": {
   "codemirror_mode": {
    "name": "ipython",
    "version": 2
   },
   "file_extension": ".py",
   "mimetype": "text/x-python",
   "name": "python",
   "nbconvert_exporter": "python",
   "pygments_lexer": "ipython2",
   "version": "2.7.15"
  }
 },
 "nbformat": 4,
 "nbformat_minor": 2
}
