{
 "cells": [
  {
   "cell_type": "markdown",
   "metadata": {},
   "source": [
    "#### Paper one\n",
    "---\n",
    "Modal disparities in spatiotemporal accessibility to non-work activities on the commute home from work in Warsaw, Poland\n",
    "==="
   ]
  },
  {
   "cell_type": "code",
   "execution_count": 1,
   "metadata": {},
   "outputs": [],
   "source": [
    "import pandas as pd\n",
    "import matplotlib.pyplot as plt\n",
    "import numpy as np\n",
    "%matplotlib inline\n",
    "pd.options.display.float_format = '{:,.2f}'.format\n",
    "pd.options.mode.chained_assignment = None "
   ]
  },
  {
   "cell_type": "markdown",
   "metadata": {},
   "source": [
    "### parameters"
   ]
  },
  {
   "cell_type": "code",
   "execution_count": 2,
   "metadata": {},
   "outputs": [],
   "source": [
    "Bs= [60, 75, 90, 105, 120] \n",
    "t_ks = [10, 20, 30, 40, 50, 60]"
   ]
  },
  {
   "cell_type": "code",
   "execution_count": null,
   "metadata": {},
   "outputs": [],
   "source": [
    "B = 90\n",
    "t_k = 20"
   ]
  },
  {
   "cell_type": "markdown",
   "metadata": {},
   "source": [
    "### prepare"
   ]
  },
  {
   "cell_type": "code",
   "execution_count": 3,
   "metadata": {},
   "outputs": [],
   "source": [
    "od_PuT = pd.read_csv('data//MTX_99321.csv', index_col = 'Unnamed: 0')\n",
    "od_PuT.columns = [int(c) for c in od_PuT.columns]\n",
    "od_PrT = pd.read_csv('data//MTX_99421.csv', index_col = 'Unnamed: 0')\n",
    "od_PrT.columns = [int(c) for c in od_PrT.columns]\n",
    "od_PrT = od_PrT.stack().reset_index()\n",
    "od_PrT.columns=['Z_Rejon',\"Do_Rejon\", 'TripsPrT']\n",
    "od_PrT.TripsPrT = od_PrT.TripsPrT.astype('int32')\n",
    "od_PuT = od_PuT.stack().reset_index()\n",
    "od_PuT.columns=['Z_Rejon',\"Do_Rejon\", 'TripsPuT']\n",
    "od_PuT.TripsPuT = od_PuT.TripsPuT.astype('int32')\n",
    "od_PrT = od_PrT[od_PrT.TripsPrT.astype(int)>0]\n",
    "od_PuT = od_PuT[od_PuT.TripsPuT.astype(int)>0]\n",
    "od = pd.merge(od_PrT, od_PuT, on = ['Z_Rejon', \"Do_Rejon\"])"
   ]
  },
  {
   "cell_type": "code",
   "execution_count": 4,
   "metadata": {},
   "outputs": [],
   "source": [
    "od.Z_Rejon = od.Z_Rejon.astype('int32')\n",
    "od.Do_Rejon=od.Do_Rejon.astype('int32')\n",
    "od.TripsPrT=od.TripsPrT.astype('float32')\n",
    "od.TripsPuT=od.TripsPuT.astype('float32')"
   ]
  },
  {
   "cell_type": "code",
   "execution_count": 5,
   "metadata": {},
   "outputs": [],
   "source": [
    "usecols = ['Z_Rejon','POI','Do_Rejon','Czas_PrT','Czas_PuT']\n",
    "dtype={'Unnamed: 0':'int32','Z_Rejon': 'int16',\n",
    "       'Czas_PrT': 'float32',\n",
    " 'Czas_PuT': 'float32',\n",
    " 'Do_Rejon': 'int16',\n",
    " 'POI': 'int16'}\n",
    "trips = pd.read_csv('data//From_Via_To.csv', dtype = dtype)\n",
    "del trips['Unnamed: 0']"
   ]
  },
  {
   "cell_type": "code",
   "execution_count": 8,
   "metadata": {},
   "outputs": [],
   "source": [
    "trips = trips[trips.Czas_PrT<600]\n",
    "trips = trips[trips.Czas_PuT<600]"
   ]
  },
  {
   "cell_type": "code",
   "execution_count": 9,
   "metadata": {},
   "outputs": [
    {
     "data": {
      "text/plain": [
       "(112143048, 5)"
      ]
     },
     "execution_count": 9,
     "metadata": {},
     "output_type": "execute_result"
    }
   ],
   "source": [
    "trips.shape"
   ]
  },
  {
   "cell_type": "code",
   "execution_count": 10,
   "metadata": {},
   "outputs": [],
   "source": [
    "trips = pd.merge(trips,od, on = ['Z_Rejon',\"Do_Rejon\"])"
   ]
  },
  {
   "cell_type": "code",
   "execution_count": 12,
   "metadata": {},
   "outputs": [],
   "source": [
    "trips = trips[['Z_Rejon','POI','Do_Rejon','Czas_PrT','Czas_PuT']]"
   ]
  },
  {
   "cell_type": "code",
   "execution_count": 13,
   "metadata": {},
   "outputs": [],
   "source": [
    "trips.columns = ['j','k','i','t_jki_Car','t_jki_PT']"
   ]
  },
  {
   "cell_type": "code",
   "execution_count": 14,
   "metadata": {},
   "outputs": [
    {
     "name": "stdout",
     "output_type": "stream",
     "text": [
      "<class 'pandas.core.frame.DataFrame'>\n",
      "Int64Index: 1347447 entries, 0 to 1347446\n",
      "Data columns (total 5 columns):\n",
      "j            1347447 non-null int16\n",
      "k            1347447 non-null int16\n",
      "i            1347447 non-null int16\n",
      "t_jki_Car    1347447 non-null float32\n",
      "t_jki_PT     1347447 non-null float32\n",
      "dtypes: float32(2), int16(3)\n",
      "memory usage: 28.3 MB\n"
     ]
    }
   ],
   "source": [
    "trips.info()"
   ]
  },
  {
   "cell_type": "markdown",
   "metadata": {},
   "source": [
    "### data"
   ]
  },
  {
   "cell_type": "code",
   "execution_count": 15,
   "metadata": {},
   "outputs": [
    {
     "data": {
      "text/html": [
       "<div>\n",
       "<style scoped>\n",
       "    .dataframe tbody tr th:only-of-type {\n",
       "        vertical-align: middle;\n",
       "    }\n",
       "\n",
       "    .dataframe tbody tr th {\n",
       "        vertical-align: top;\n",
       "    }\n",
       "\n",
       "    .dataframe thead th {\n",
       "        text-align: right;\n",
       "    }\n",
       "</style>\n",
       "<table border=\"1\" class=\"dataframe\">\n",
       "  <thead>\n",
       "    <tr style=\"text-align: right;\">\n",
       "      <th></th>\n",
       "      <th>j</th>\n",
       "      <th>k</th>\n",
       "      <th>i</th>\n",
       "      <th>t_jki_Car</th>\n",
       "      <th>t_jki_PT</th>\n",
       "    </tr>\n",
       "  </thead>\n",
       "  <tbody>\n",
       "    <tr>\n",
       "      <th>0</th>\n",
       "      <td>1</td>\n",
       "      <td>30</td>\n",
       "      <td>5</td>\n",
       "      <td>19.30</td>\n",
       "      <td>5.49</td>\n",
       "    </tr>\n",
       "    <tr>\n",
       "      <th>1</th>\n",
       "      <td>1</td>\n",
       "      <td>174</td>\n",
       "      <td>5</td>\n",
       "      <td>35.63</td>\n",
       "      <td>10.98</td>\n",
       "    </tr>\n",
       "    <tr>\n",
       "      <th>2</th>\n",
       "      <td>1</td>\n",
       "      <td>178</td>\n",
       "      <td>5</td>\n",
       "      <td>35.74</td>\n",
       "      <td>10.30</td>\n",
       "    </tr>\n",
       "    <tr>\n",
       "      <th>3</th>\n",
       "      <td>1</td>\n",
       "      <td>74</td>\n",
       "      <td>5</td>\n",
       "      <td>40.77</td>\n",
       "      <td>11.84</td>\n",
       "    </tr>\n",
       "    <tr>\n",
       "      <th>4</th>\n",
       "      <td>1</td>\n",
       "      <td>154</td>\n",
       "      <td>5</td>\n",
       "      <td>40.84</td>\n",
       "      <td>11.90</td>\n",
       "    </tr>\n",
       "  </tbody>\n",
       "</table>\n",
       "</div>"
      ],
      "text/plain": [
       "   j    k  i  t_jki_Car  t_jki_PT\n",
       "0  1   30  5      19.30      5.49\n",
       "1  1  174  5      35.63     10.98\n",
       "2  1  178  5      35.74     10.30\n",
       "3  1   74  5      40.77     11.84\n",
       "4  1  154  5      40.84     11.90"
      ]
     },
     "execution_count": 15,
     "metadata": {},
     "output_type": "execute_result"
    }
   ],
   "source": [
    "trips.head()"
   ]
  },
  {
   "cell_type": "code",
   "execution_count": 17,
   "metadata": {},
   "outputs": [
    {
     "data": {
      "text/plain": [
       "<matplotlib.axes._subplots.AxesSubplot at 0x19093358>"
      ]
     },
     "execution_count": 17,
     "metadata": {},
     "output_type": "execute_result"
    },
    {
     "data": {
      "image/png": "[encoded data removed]",
      "text/plain": [
       "<Figure size 432x288 with 1 Axes>"
      ]
     },
     "metadata": {
      "needs_background": "light"
     },
     "output_type": "display_data"
    }
   ],
   "source": [
    "trips[trips['t_jki_Car']<400]['t_jki_Car'].hist()"
   ]
  },
  {
   "cell_type": "code",
   "execution_count": 18,
   "metadata": {},
   "outputs": [
    {
     "data": {
      "text/plain": [
       "<matplotlib.axes._subplots.AxesSubplot at 0x7a1cd2e8>"
      ]
     },
     "execution_count": 18,
     "metadata": {},
     "output_type": "execute_result"
    },
    {
     "data": {
      "image/png": "[encoded data removed]",
      "text/plain": [
       "<Figure size 432x288 with 1 Axes>"
      ]
     },
     "metadata": {
      "needs_background": "light"
     },
     "output_type": "display_data"
    }
   ],
   "source": [
    "trips[trips['t_jki_PT']<400]['t_jki_PT'].hist()"
   ]
  },
  {
   "cell_type": "markdown",
   "metadata": {},
   "source": [
    "# 3.2.\n",
    "The time-geographic accessibility of a person leaving work in zone j stopping at non-work location k on the way home in zone i is calculated as:\n",
    "\n",
    " $A_{jki} = max(0,B-(t_{jk}+t_{k}+t_{ki}))$  (1)\n",
    "\n",
    "$B$ = travel time budget in minutes\n",
    "\n",
    "$t_jk$  = travel time in minutes from work location j to non-work location k\n",
    "\n",
    "$t_k$  = minimum time required to participate in activity at location k\n",
    "\n",
    "$t_ki$  = travel time in minutes from non-work location k to home location i\n",
    "\n",
    "$A_jki$  = number of minutes available for person working in location j and living in location i to consume goods or services at location k given available travel budget B and minimum activity duration $t_k$ .\n"
   ]
  },
  {
   "cell_type": "code",
   "execution_count": 16,
   "metadata": {},
   "outputs": [],
   "source": [
    "trips['A_jki_Car'] = B - trips.t_jki_Car - t_k\n",
    "trips.A_jki_Car[trips.A_jki_Car < 0] = 0\n",
    "trips.A_jki_Car[trips.A_jki_Car > 0] = trips.A_jki_Car + t_k\n",
    "trips['A_jki_PT'] = B - trips.t_jki_PT - t_k\n",
    "trips.A_jki_PT[trips.A_jki_PT < 0] = 0\n",
    "trips.A_jki_PT[trips.A_jki_PT > 0] = trips.A_jki_PT + t_k"
   ]
  },
  {
   "cell_type": "code",
   "execution_count": 19,
   "metadata": {},
   "outputs": [],
   "source": [
    "def percentile(n):\n",
    "    def percentile_(x):\n",
    "        return np.percentile(x, n)\n",
    "    percentile_.__name__ = 'p_%s' % n\n",
    "    return percentile_\n",
    "aggs = ['mean','min','max','std','median', percentile(25), percentile(75)]"
   ]
  },
  {
   "cell_type": "markdown",
   "metadata": {},
   "source": [
    "The commute-based work-home accessibility, $A_{ji}^C$, is calculated by:\n",
    "\n",
    "$A_{ji}^C = \\frac{\\sum_{k \\in K} A_{jki}}{n} $ (2)"
   ]
  },
  {
   "cell_type": "code",
   "execution_count": 20,
   "metadata": {
    "scrolled": true
   },
   "outputs": [
    {
     "data": {
      "text/html": [
       "<div>\n",
       "<style scoped>\n",
       "    .dataframe tbody tr th:only-of-type {\n",
       "        vertical-align: middle;\n",
       "    }\n",
       "\n",
       "    .dataframe tbody tr th {\n",
       "        vertical-align: top;\n",
       "    }\n",
       "\n",
       "    .dataframe thead th {\n",
       "        text-align: right;\n",
       "    }\n",
       "</style>\n",
       "<table border=\"1\" class=\"dataframe\">\n",
       "  <thead>\n",
       "    <tr style=\"text-align: right;\">\n",
       "      <th></th>\n",
       "      <th></th>\n",
       "      <th>A_ji_C_Car_mean</th>\n",
       "      <th>A_ji_C_Car_min</th>\n",
       "      <th>A_ji_C_Car_max</th>\n",
       "      <th>A_ji_C_Car_std</th>\n",
       "      <th>A_ji_C_Car_median</th>\n",
       "      <th>A_ji_C_Car_p_25</th>\n",
       "      <th>A_ji_C_Car_p_75</th>\n",
       "    </tr>\n",
       "    <tr>\n",
       "      <th>i</th>\n",
       "      <th>j</th>\n",
       "      <th></th>\n",
       "      <th></th>\n",
       "      <th></th>\n",
       "      <th></th>\n",
       "      <th></th>\n",
       "      <th></th>\n",
       "      <th></th>\n",
       "    </tr>\n",
       "  </thead>\n",
       "  <tbody>\n",
       "    <tr>\n",
       "      <th rowspan=\"5\" valign=\"top\">1</th>\n",
       "      <th>3</th>\n",
       "      <td>36.84</td>\n",
       "      <td>20.15</td>\n",
       "      <td>75.60</td>\n",
       "      <td>9.71</td>\n",
       "      <td>37.85</td>\n",
       "      <td>29.74</td>\n",
       "      <td>39.26</td>\n",
       "    </tr>\n",
       "    <tr>\n",
       "      <th>4</th>\n",
       "      <td>35.80</td>\n",
       "      <td>20.48</td>\n",
       "      <td>75.60</td>\n",
       "      <td>9.08</td>\n",
       "      <td>33.31</td>\n",
       "      <td>31.42</td>\n",
       "      <td>39.13</td>\n",
       "    </tr>\n",
       "    <tr>\n",
       "      <th>5</th>\n",
       "      <td>36.87</td>\n",
       "      <td>20.29</td>\n",
       "      <td>74.60</td>\n",
       "      <td>9.43</td>\n",
       "      <td>37.72</td>\n",
       "      <td>30.21</td>\n",
       "      <td>39.45</td>\n",
       "    </tr>\n",
       "    <tr>\n",
       "      <th>6</th>\n",
       "      <td>38.69</td>\n",
       "      <td>20.17</td>\n",
       "      <td>71.22</td>\n",
       "      <td>9.16</td>\n",
       "      <td>39.85</td>\n",
       "      <td>32.41</td>\n",
       "      <td>41.26</td>\n",
       "    </tr>\n",
       "    <tr>\n",
       "      <th>7</th>\n",
       "      <td>37.51</td>\n",
       "      <td>21.01</td>\n",
       "      <td>73.02</td>\n",
       "      <td>9.47</td>\n",
       "      <td>38.56</td>\n",
       "      <td>31.60</td>\n",
       "      <td>40.94</td>\n",
       "    </tr>\n",
       "  </tbody>\n",
       "</table>\n",
       "</div>"
      ],
      "text/plain": [
       "     A_ji_C_Car_mean  A_ji_C_Car_min  A_ji_C_Car_max  A_ji_C_Car_std  \\\n",
       "i j                                                                    \n",
       "1 3            36.84           20.15           75.60            9.71   \n",
       "  4            35.80           20.48           75.60            9.08   \n",
       "  5            36.87           20.29           74.60            9.43   \n",
       "  6            38.69           20.17           71.22            9.16   \n",
       "  7            37.51           21.01           73.02            9.47   \n",
       "\n",
       "     A_ji_C_Car_median  A_ji_C_Car_p_25  A_ji_C_Car_p_75  \n",
       "i j                                                       \n",
       "1 3              37.85            29.74            39.26  \n",
       "  4              33.31            31.42            39.13  \n",
       "  5              37.72            30.21            39.45  \n",
       "  6              39.85            32.41            41.26  \n",
       "  7              38.56            31.60            40.94  "
      ]
     },
     "execution_count": 20,
     "metadata": {},
     "output_type": "execute_result"
    }
   ],
   "source": [
    "A_ji_C_Car = trips[trips.A_jki_Car>0].groupby(by=['i','j'])['A_jki_Car'].agg(aggs)\n",
    "A_ji_C_Car.columns = ['A_ji_C_Car' + \"_\"+ str(col)  for col in A_ji_C_Car.columns]\n",
    "A_ji_C_Car.to_csv('data//A_ji_C_Car.csv')\n",
    "A_ji_C_Car.head()"
   ]
  },
  {
   "cell_type": "code",
   "execution_count": 21,
   "metadata": {},
   "outputs": [
    {
     "data": {
      "text/html": [
       "<div>\n",
       "<style scoped>\n",
       "    .dataframe tbody tr th:only-of-type {\n",
       "        vertical-align: middle;\n",
       "    }\n",
       "\n",
       "    .dataframe tbody tr th {\n",
       "        vertical-align: top;\n",
       "    }\n",
       "\n",
       "    .dataframe thead th {\n",
       "        text-align: right;\n",
       "    }\n",
       "</style>\n",
       "<table border=\"1\" class=\"dataframe\">\n",
       "  <thead>\n",
       "    <tr style=\"text-align: right;\">\n",
       "      <th></th>\n",
       "      <th></th>\n",
       "      <th>A_ji_C_PT_mean</th>\n",
       "      <th>A_ji_C_PT_min</th>\n",
       "      <th>A_ji_C_PT_max</th>\n",
       "      <th>A_ji_C_PT_std</th>\n",
       "      <th>A_ji_C_PT_median</th>\n",
       "      <th>A_ji_C_PT_p_25</th>\n",
       "      <th>A_ji_C_PT_p_75</th>\n",
       "    </tr>\n",
       "    <tr>\n",
       "      <th>i</th>\n",
       "      <th>j</th>\n",
       "      <th></th>\n",
       "      <th></th>\n",
       "      <th></th>\n",
       "      <th></th>\n",
       "      <th></th>\n",
       "      <th></th>\n",
       "      <th></th>\n",
       "    </tr>\n",
       "  </thead>\n",
       "  <tbody>\n",
       "    <tr>\n",
       "      <th rowspan=\"5\" valign=\"top\">1</th>\n",
       "      <th>3</th>\n",
       "      <td>52.72</td>\n",
       "      <td>20.11</td>\n",
       "      <td>84.81</td>\n",
       "      <td>14.42</td>\n",
       "      <td>56.32</td>\n",
       "      <td>42.96</td>\n",
       "      <td>61.71</td>\n",
       "    </tr>\n",
       "    <tr>\n",
       "      <th>4</th>\n",
       "      <td>52.34</td>\n",
       "      <td>20.62</td>\n",
       "      <td>83.21</td>\n",
       "      <td>14.43</td>\n",
       "      <td>55.95</td>\n",
       "      <td>42.60</td>\n",
       "      <td>61.34</td>\n",
       "    </tr>\n",
       "    <tr>\n",
       "      <th>5</th>\n",
       "      <td>53.64</td>\n",
       "      <td>20.57</td>\n",
       "      <td>84.10</td>\n",
       "      <td>14.60</td>\n",
       "      <td>57.92</td>\n",
       "      <td>44.52</td>\n",
       "      <td>62.68</td>\n",
       "    </tr>\n",
       "    <tr>\n",
       "      <th>6</th>\n",
       "      <td>53.76</td>\n",
       "      <td>20.99</td>\n",
       "      <td>83.22</td>\n",
       "      <td>14.70</td>\n",
       "      <td>58.34</td>\n",
       "      <td>44.95</td>\n",
       "      <td>62.80</td>\n",
       "    </tr>\n",
       "    <tr>\n",
       "      <th>7</th>\n",
       "      <td>54.03</td>\n",
       "      <td>21.45</td>\n",
       "      <td>82.00</td>\n",
       "      <td>14.42</td>\n",
       "      <td>58.80</td>\n",
       "      <td>45.40</td>\n",
       "      <td>63.44</td>\n",
       "    </tr>\n",
       "  </tbody>\n",
       "</table>\n",
       "</div>"
      ],
      "text/plain": [
       "     A_ji_C_PT_mean  A_ji_C_PT_min  A_ji_C_PT_max  A_ji_C_PT_std  \\\n",
       "i j                                                                \n",
       "1 3           52.72          20.11          84.81          14.42   \n",
       "  4           52.34          20.62          83.21          14.43   \n",
       "  5           53.64          20.57          84.10          14.60   \n",
       "  6           53.76          20.99          83.22          14.70   \n",
       "  7           54.03          21.45          82.00          14.42   \n",
       "\n",
       "     A_ji_C_PT_median  A_ji_C_PT_p_25  A_ji_C_PT_p_75  \n",
       "i j                                                    \n",
       "1 3             56.32           42.96           61.71  \n",
       "  4             55.95           42.60           61.34  \n",
       "  5             57.92           44.52           62.68  \n",
       "  6             58.34           44.95           62.80  \n",
       "  7             58.80           45.40           63.44  "
      ]
     },
     "execution_count": 21,
     "metadata": {},
     "output_type": "execute_result"
    }
   ],
   "source": [
    "A_ji_C_PT = trips[trips.A_jki_PT>0].groupby(by=['i','j'])['A_jki_PT'].agg(aggs)\n",
    "A_ji_C_PT.columns = ['A_ji_C_PT_' + str(col)  for col in A_ji_C_PT.columns]\n",
    "A_ji_C_PT.to_csv('data//A_ji_C_PT.csv')\n",
    "A_ji_C_PT.head()"
   ]
  },
  {
   "cell_type": "markdown",
   "metadata": {},
   "source": [
    "Similarly, the commute-based home accessibility, $A_i^C$, is calculated by:\n",
    "\n",
    "$A_{i}^C = \\frac{\\sum_{k \\in K} A_{jki}}{n} $ (3)"
   ]
  },
  {
   "cell_type": "code",
   "execution_count": 22,
   "metadata": {},
   "outputs": [
    {
     "data": {
      "text/html": [
       "<div>\n",
       "<style scoped>\n",
       "    .dataframe tbody tr th:only-of-type {\n",
       "        vertical-align: middle;\n",
       "    }\n",
       "\n",
       "    .dataframe tbody tr th {\n",
       "        vertical-align: top;\n",
       "    }\n",
       "\n",
       "    .dataframe thead th {\n",
       "        text-align: right;\n",
       "    }\n",
       "</style>\n",
       "<table border=\"1\" class=\"dataframe\">\n",
       "  <thead>\n",
       "    <tr style=\"text-align: right;\">\n",
       "      <th></th>\n",
       "      <th>A_i_C_Car_mean</th>\n",
       "      <th>A_i_C_Car_min</th>\n",
       "      <th>A_i_C_Car_max</th>\n",
       "      <th>A_i_C_Car_std</th>\n",
       "      <th>A_i_C_Car_median</th>\n",
       "      <th>A_i_C_Car_p_25</th>\n",
       "      <th>A_i_C_Car_p_75</th>\n",
       "    </tr>\n",
       "    <tr>\n",
       "      <th>i</th>\n",
       "      <th></th>\n",
       "      <th></th>\n",
       "      <th></th>\n",
       "      <th></th>\n",
       "      <th></th>\n",
       "      <th></th>\n",
       "      <th></th>\n",
       "    </tr>\n",
       "  </thead>\n",
       "  <tbody>\n",
       "    <tr>\n",
       "      <th>1</th>\n",
       "      <td>36.35</td>\n",
       "      <td>20.00</td>\n",
       "      <td>75.60</td>\n",
       "      <td>9.17</td>\n",
       "      <td>36.16</td>\n",
       "      <td>29.20</td>\n",
       "      <td>43.10</td>\n",
       "    </tr>\n",
       "    <tr>\n",
       "      <th>3</th>\n",
       "      <td>39.13</td>\n",
       "      <td>20.04</td>\n",
       "      <td>63.84</td>\n",
       "      <td>8.56</td>\n",
       "      <td>39.81</td>\n",
       "      <td>33.13</td>\n",
       "      <td>45.18</td>\n",
       "    </tr>\n",
       "    <tr>\n",
       "      <th>5</th>\n",
       "      <td>40.07</td>\n",
       "      <td>20.03</td>\n",
       "      <td>70.70</td>\n",
       "      <td>9.34</td>\n",
       "      <td>39.94</td>\n",
       "      <td>33.38</td>\n",
       "      <td>47.44</td>\n",
       "    </tr>\n",
       "    <tr>\n",
       "      <th>6</th>\n",
       "      <td>40.50</td>\n",
       "      <td>20.05</td>\n",
       "      <td>71.60</td>\n",
       "      <td>9.41</td>\n",
       "      <td>41.32</td>\n",
       "      <td>34.16</td>\n",
       "      <td>47.75</td>\n",
       "    </tr>\n",
       "    <tr>\n",
       "      <th>7</th>\n",
       "      <td>41.99</td>\n",
       "      <td>20.05</td>\n",
       "      <td>71.82</td>\n",
       "      <td>9.78</td>\n",
       "      <td>42.73</td>\n",
       "      <td>35.49</td>\n",
       "      <td>49.62</td>\n",
       "    </tr>\n",
       "  </tbody>\n",
       "</table>\n",
       "</div>"
      ],
      "text/plain": [
       "   A_i_C_Car_mean  A_i_C_Car_min  A_i_C_Car_max  A_i_C_Car_std  \\\n",
       "i                                                                \n",
       "1           36.35          20.00          75.60           9.17   \n",
       "3           39.13          20.04          63.84           8.56   \n",
       "5           40.07          20.03          70.70           9.34   \n",
       "6           40.50          20.05          71.60           9.41   \n",
       "7           41.99          20.05          71.82           9.78   \n",
       "\n",
       "   A_i_C_Car_median  A_i_C_Car_p_25  A_i_C_Car_p_75  \n",
       "i                                                    \n",
       "1             36.16           29.20           43.10  \n",
       "3             39.81           33.13           45.18  \n",
       "5             39.94           33.38           47.44  \n",
       "6             41.32           34.16           47.75  \n",
       "7             42.73           35.49           49.62  "
      ]
     },
     "execution_count": 22,
     "metadata": {},
     "output_type": "execute_result"
    }
   ],
   "source": [
    "A_i_C_Car = trips[trips.A_jki_Car>0].groupby(by=['i'])['A_jki_Car'].agg(aggs)\n",
    "A_i_C_Car.columns = ['A_i_C_Car_' + str(col)  for col in A_i_C_Car.columns]\n",
    "A_i_C_Car.to_csv('data//A_i_C_Car.csv')\n",
    "A_i_C_Car.head()"
   ]
  },
  {
   "cell_type": "code",
   "execution_count": 23,
   "metadata": {},
   "outputs": [
    {
     "data": {
      "text/html": [
       "<div>\n",
       "<style scoped>\n",
       "    .dataframe tbody tr th:only-of-type {\n",
       "        vertical-align: middle;\n",
       "    }\n",
       "\n",
       "    .dataframe tbody tr th {\n",
       "        vertical-align: top;\n",
       "    }\n",
       "\n",
       "    .dataframe thead th {\n",
       "        text-align: right;\n",
       "    }\n",
       "</style>\n",
       "<table border=\"1\" class=\"dataframe\">\n",
       "  <thead>\n",
       "    <tr style=\"text-align: right;\">\n",
       "      <th></th>\n",
       "      <th>A_i_C_PT_mean</th>\n",
       "      <th>A_i_C_PT_min</th>\n",
       "      <th>A_i_C_PT_max</th>\n",
       "      <th>A_i_C_PT_std</th>\n",
       "      <th>A_i_C_PT_median</th>\n",
       "      <th>A_i_C_PT_p_25</th>\n",
       "      <th>A_i_C_PT_p_75</th>\n",
       "    </tr>\n",
       "    <tr>\n",
       "      <th>i</th>\n",
       "      <th></th>\n",
       "      <th></th>\n",
       "      <th></th>\n",
       "      <th></th>\n",
       "      <th></th>\n",
       "      <th></th>\n",
       "      <th></th>\n",
       "    </tr>\n",
       "  </thead>\n",
       "  <tbody>\n",
       "    <tr>\n",
       "      <th>1</th>\n",
       "      <td>49.94</td>\n",
       "      <td>20.01</td>\n",
       "      <td>84.84</td>\n",
       "      <td>13.43</td>\n",
       "      <td>51.50</td>\n",
       "      <td>40.73</td>\n",
       "      <td>60.13</td>\n",
       "    </tr>\n",
       "    <tr>\n",
       "      <th>3</th>\n",
       "      <td>55.24</td>\n",
       "      <td>20.22</td>\n",
       "      <td>81.38</td>\n",
       "      <td>14.31</td>\n",
       "      <td>60.01</td>\n",
       "      <td>45.45</td>\n",
       "      <td>66.33</td>\n",
       "    </tr>\n",
       "    <tr>\n",
       "      <th>5</th>\n",
       "      <td>53.79</td>\n",
       "      <td>20.24</td>\n",
       "      <td>84.51</td>\n",
       "      <td>14.93</td>\n",
       "      <td>57.43</td>\n",
       "      <td>41.97</td>\n",
       "      <td>66.73</td>\n",
       "    </tr>\n",
       "    <tr>\n",
       "      <th>6</th>\n",
       "      <td>54.90</td>\n",
       "      <td>20.04</td>\n",
       "      <td>84.52</td>\n",
       "      <td>14.82</td>\n",
       "      <td>59.11</td>\n",
       "      <td>42.43</td>\n",
       "      <td>67.30</td>\n",
       "    </tr>\n",
       "    <tr>\n",
       "      <th>7</th>\n",
       "      <td>56.39</td>\n",
       "      <td>20.05</td>\n",
       "      <td>83.42</td>\n",
       "      <td>15.27</td>\n",
       "      <td>60.88</td>\n",
       "      <td>45.86</td>\n",
       "      <td>68.74</td>\n",
       "    </tr>\n",
       "  </tbody>\n",
       "</table>\n",
       "</div>"
      ],
      "text/plain": [
       "   A_i_C_PT_mean  A_i_C_PT_min  A_i_C_PT_max  A_i_C_PT_std  A_i_C_PT_median  \\\n",
       "i                                                                             \n",
       "1          49.94         20.01         84.84         13.43            51.50   \n",
       "3          55.24         20.22         81.38         14.31            60.01   \n",
       "5          53.79         20.24         84.51         14.93            57.43   \n",
       "6          54.90         20.04         84.52         14.82            59.11   \n",
       "7          56.39         20.05         83.42         15.27            60.88   \n",
       "\n",
       "   A_i_C_PT_p_25  A_i_C_PT_p_75  \n",
       "i                                \n",
       "1          40.73          60.13  \n",
       "3          45.45          66.33  \n",
       "5          41.97          66.73  \n",
       "6          42.43          67.30  \n",
       "7          45.86          68.74  "
      ]
     },
     "execution_count": 23,
     "metadata": {},
     "output_type": "execute_result"
    }
   ],
   "source": [
    "A_i_C_PT = trips[trips.A_jki_PT>0].groupby(by=['i'])['A_jki_PT'].agg(aggs)\n",
    "A_i_C_PT.columns = ['A_i_C_PT_' + str(col)  for col in A_i_C_PT.columns]\n",
    "A_i_C_PT.to_csv('data//A_i_C_PT.csv')\n",
    "A_i_C_PT.head()"
   ]
  },
  {
   "cell_type": "markdown",
   "metadata": {},
   "source": [
    "# 3.3 Home-based accessibility\n",
    "\n",
    "For comparisons with previous modal accessibility disparity studies described earlier, a time-geographic accessibility metric is developed to measure the time available to consume goods or services at location k based on a trip from and to the home location i. The number of minutes available on a home-based trip, A_iki^ , is calculated by:\n",
    "\n",
    "$A_{iki} = max(0,B-(t_{ik}+t_{k}+t_{ki}))$ (4)"
   ]
  },
  {
   "cell_type": "code",
   "execution_count": 24,
   "metadata": {},
   "outputs": [],
   "source": [
    "hb = trips[trips.i == trips.j]"
   ]
  },
  {
   "cell_type": "markdown",
   "metadata": {},
   "source": [
    "$A_{i}^H = \\frac{\\sum_{k \\in K} A_{iki}}{n} $ (5)"
   ]
  },
  {
   "cell_type": "code",
   "execution_count": 25,
   "metadata": {},
   "outputs": [
    {
     "data": {
      "text/html": [
       "<div>\n",
       "<style scoped>\n",
       "    .dataframe tbody tr th:only-of-type {\n",
       "        vertical-align: middle;\n",
       "    }\n",
       "\n",
       "    .dataframe tbody tr th {\n",
       "        vertical-align: top;\n",
       "    }\n",
       "\n",
       "    .dataframe thead th {\n",
       "        text-align: right;\n",
       "    }\n",
       "</style>\n",
       "<table border=\"1\" class=\"dataframe\">\n",
       "  <thead>\n",
       "    <tr style=\"text-align: right;\">\n",
       "      <th></th>\n",
       "      <th>A_i_H_Car_mean</th>\n",
       "      <th>A_i_H_Car_min</th>\n",
       "      <th>A_i_H_Car_max</th>\n",
       "      <th>A_i_H_Car_std</th>\n",
       "      <th>A_i_H_Car_median</th>\n",
       "      <th>A_i_H_Car_p_25</th>\n",
       "      <th>A_i_H_Car_p_75</th>\n",
       "    </tr>\n",
       "    <tr>\n",
       "      <th>i</th>\n",
       "      <th></th>\n",
       "      <th></th>\n",
       "      <th></th>\n",
       "      <th></th>\n",
       "      <th></th>\n",
       "      <th></th>\n",
       "      <th></th>\n",
       "    </tr>\n",
       "  </thead>\n",
       "  <tbody>\n",
       "    <tr>\n",
       "      <th>3</th>\n",
       "      <td>36.35</td>\n",
       "      <td>20.04</td>\n",
       "      <td>63.84</td>\n",
       "      <td>9.37</td>\n",
       "      <td>37.74</td>\n",
       "      <td>29.38</td>\n",
       "      <td>39.52</td>\n",
       "    </tr>\n",
       "    <tr>\n",
       "      <th>84</th>\n",
       "      <td>37.68</td>\n",
       "      <td>20.54</td>\n",
       "      <td>58.88</td>\n",
       "      <td>8.38</td>\n",
       "      <td>38.68</td>\n",
       "      <td>30.80</td>\n",
       "      <td>42.52</td>\n",
       "    </tr>\n",
       "    <tr>\n",
       "      <th>96</th>\n",
       "      <td>41.72</td>\n",
       "      <td>20.22</td>\n",
       "      <td>59.77</td>\n",
       "      <td>9.91</td>\n",
       "      <td>45.10</td>\n",
       "      <td>36.22</td>\n",
       "      <td>50.24</td>\n",
       "    </tr>\n",
       "    <tr>\n",
       "      <th>114</th>\n",
       "      <td>28.81</td>\n",
       "      <td>20.32</td>\n",
       "      <td>57.92</td>\n",
       "      <td>9.10</td>\n",
       "      <td>24.26</td>\n",
       "      <td>22.96</td>\n",
       "      <td>32.31</td>\n",
       "    </tr>\n",
       "    <tr>\n",
       "      <th>133</th>\n",
       "      <td>38.44</td>\n",
       "      <td>20.52</td>\n",
       "      <td>54.79</td>\n",
       "      <td>9.04</td>\n",
       "      <td>41.31</td>\n",
       "      <td>31.63</td>\n",
       "      <td>43.28</td>\n",
       "    </tr>\n",
       "  </tbody>\n",
       "</table>\n",
       "</div>"
      ],
      "text/plain": [
       "     A_i_H_Car_mean  A_i_H_Car_min  A_i_H_Car_max  A_i_H_Car_std  \\\n",
       "i                                                                  \n",
       "3             36.35          20.04          63.84           9.37   \n",
       "84            37.68          20.54          58.88           8.38   \n",
       "96            41.72          20.22          59.77           9.91   \n",
       "114           28.81          20.32          57.92           9.10   \n",
       "133           38.44          20.52          54.79           9.04   \n",
       "\n",
       "     A_i_H_Car_median  A_i_H_Car_p_25  A_i_H_Car_p_75  \n",
       "i                                                      \n",
       "3               37.74           29.38           39.52  \n",
       "84              38.68           30.80           42.52  \n",
       "96              45.10           36.22           50.24  \n",
       "114             24.26           22.96           32.31  \n",
       "133             41.31           31.63           43.28  "
      ]
     },
     "execution_count": 25,
     "metadata": {},
     "output_type": "execute_result"
    }
   ],
   "source": [
    "A_i_H_Car = hb[hb.A_jki_Car>0].groupby(by=['i'])['A_jki_Car'].agg(aggs)\n",
    "A_i_H_Car.columns = ['A_i_H_Car_' + str(col)  for col in A_i_H_Car.columns]\n",
    "A_i_H_Car.to_csv('data//A_i_H_Car.csv')\n",
    "A_i_H_Car.head()"
   ]
  },
  {
   "cell_type": "code",
   "execution_count": 26,
   "metadata": {},
   "outputs": [
    {
     "data": {
      "text/html": [
       "<div>\n",
       "<style scoped>\n",
       "    .dataframe tbody tr th:only-of-type {\n",
       "        vertical-align: middle;\n",
       "    }\n",
       "\n",
       "    .dataframe tbody tr th {\n",
       "        vertical-align: top;\n",
       "    }\n",
       "\n",
       "    .dataframe thead th {\n",
       "        text-align: right;\n",
       "    }\n",
       "</style>\n",
       "<table border=\"1\" class=\"dataframe\">\n",
       "  <thead>\n",
       "    <tr style=\"text-align: right;\">\n",
       "      <th></th>\n",
       "      <th>A_i_H_PT_mean</th>\n",
       "      <th>A_i_H_PT_min</th>\n",
       "      <th>A_i_H_PT_max</th>\n",
       "      <th>A_i_H_PT_std</th>\n",
       "      <th>A_i_H_PT_median</th>\n",
       "      <th>A_i_H_PT_p_25</th>\n",
       "      <th>A_i_H_PT_p_75</th>\n",
       "    </tr>\n",
       "    <tr>\n",
       "      <th>i</th>\n",
       "      <th></th>\n",
       "      <th></th>\n",
       "      <th></th>\n",
       "      <th></th>\n",
       "      <th></th>\n",
       "      <th></th>\n",
       "      <th></th>\n",
       "    </tr>\n",
       "  </thead>\n",
       "  <tbody>\n",
       "    <tr>\n",
       "      <th>3</th>\n",
       "      <td>55.38</td>\n",
       "      <td>22.19</td>\n",
       "      <td>81.38</td>\n",
       "      <td>14.66</td>\n",
       "      <td>59.41</td>\n",
       "      <td>47.37</td>\n",
       "      <td>64.40</td>\n",
       "    </tr>\n",
       "    <tr>\n",
       "      <th>84</th>\n",
       "      <td>58.96</td>\n",
       "      <td>24.15</td>\n",
       "      <td>84.01</td>\n",
       "      <td>13.21</td>\n",
       "      <td>62.96</td>\n",
       "      <td>53.26</td>\n",
       "      <td>65.48</td>\n",
       "    </tr>\n",
       "    <tr>\n",
       "      <th>96</th>\n",
       "      <td>63.49</td>\n",
       "      <td>20.81</td>\n",
       "      <td>85.98</td>\n",
       "      <td>18.03</td>\n",
       "      <td>68.81</td>\n",
       "      <td>51.25</td>\n",
       "      <td>78.07</td>\n",
       "    </tr>\n",
       "    <tr>\n",
       "      <th>114</th>\n",
       "      <td>47.03</td>\n",
       "      <td>20.36</td>\n",
       "      <td>80.96</td>\n",
       "      <td>14.48</td>\n",
       "      <td>46.47</td>\n",
       "      <td>36.90</td>\n",
       "      <td>56.52</td>\n",
       "    </tr>\n",
       "    <tr>\n",
       "      <th>133</th>\n",
       "      <td>55.98</td>\n",
       "      <td>21.48</td>\n",
       "      <td>81.61</td>\n",
       "      <td>15.34</td>\n",
       "      <td>60.53</td>\n",
       "      <td>44.89</td>\n",
       "      <td>66.00</td>\n",
       "    </tr>\n",
       "  </tbody>\n",
       "</table>\n",
       "</div>"
      ],
      "text/plain": [
       "     A_i_H_PT_mean  A_i_H_PT_min  A_i_H_PT_max  A_i_H_PT_std  A_i_H_PT_median  \\\n",
       "i                                                                               \n",
       "3            55.38         22.19         81.38         14.66            59.41   \n",
       "84           58.96         24.15         84.01         13.21            62.96   \n",
       "96           63.49         20.81         85.98         18.03            68.81   \n",
       "114          47.03         20.36         80.96         14.48            46.47   \n",
       "133          55.98         21.48         81.61         15.34            60.53   \n",
       "\n",
       "     A_i_H_PT_p_25  A_i_H_PT_p_75  \n",
       "i                                  \n",
       "3            47.37          64.40  \n",
       "84           53.26          65.48  \n",
       "96           51.25          78.07  \n",
       "114          36.90          56.52  \n",
       "133          44.89          66.00  "
      ]
     },
     "execution_count": 26,
     "metadata": {},
     "output_type": "execute_result"
    }
   ],
   "source": [
    "A_i_H_PT = hb[hb.A_jki_PT>0].groupby(by=['i'])['A_jki_PT'].agg(aggs)\n",
    "A_i_H_PT.columns = ['A_i_H_PT_' + str(col)  for col in A_i_H_PT.columns]\n",
    "A_i_H_PT.to_csv('data//A_i_H_PT.csv')\n",
    "A_i_H_PT.head()"
   ]
  },
  {
   "cell_type": "markdown",
   "metadata": {},
   "source": [
    "# 3.4 Modal accessibility disparity\n",
    "We use both zonal measures of accessible time to derive metrics of the disparity between automobiles and public transit. We use a standardized disparity measure based on Kwok & Yeh (2004). The zonal commute-based modal disparity is given by:\n",
    "\n",
    "$X^C_i = \\frac{A_i^{C,PT}-A_i^{C,Car}}{A_i^{C,PT}+A_i^{C,Car}}$ (6)"
   ]
  },
  {
   "cell_type": "code",
   "execution_count": 27,
   "metadata": {},
   "outputs": [
    {
     "data": {
      "text/html": [
       "<div>\n",
       "<style scoped>\n",
       "    .dataframe tbody tr th:only-of-type {\n",
       "        vertical-align: middle;\n",
       "    }\n",
       "\n",
       "    .dataframe tbody tr th {\n",
       "        vertical-align: top;\n",
       "    }\n",
       "\n",
       "    .dataframe thead th {\n",
       "        text-align: right;\n",
       "    }\n",
       "</style>\n",
       "<table border=\"1\" class=\"dataframe\">\n",
       "  <thead>\n",
       "    <tr style=\"text-align: right;\">\n",
       "      <th></th>\n",
       "      <th>X_i_C</th>\n",
       "    </tr>\n",
       "    <tr>\n",
       "      <th>i</th>\n",
       "      <th></th>\n",
       "    </tr>\n",
       "  </thead>\n",
       "  <tbody>\n",
       "    <tr>\n",
       "      <th>1</th>\n",
       "      <td>0.16</td>\n",
       "    </tr>\n",
       "    <tr>\n",
       "      <th>3</th>\n",
       "      <td>0.17</td>\n",
       "    </tr>\n",
       "    <tr>\n",
       "      <th>5</th>\n",
       "      <td>0.15</td>\n",
       "    </tr>\n",
       "    <tr>\n",
       "      <th>6</th>\n",
       "      <td>0.15</td>\n",
       "    </tr>\n",
       "    <tr>\n",
       "      <th>7</th>\n",
       "      <td>0.15</td>\n",
       "    </tr>\n",
       "  </tbody>\n",
       "</table>\n",
       "</div>"
      ],
      "text/plain": [
       "   X_i_C\n",
       "i       \n",
       "1   0.16\n",
       "3   0.17\n",
       "5   0.15\n",
       "6   0.15\n",
       "7   0.15"
      ]
     },
     "execution_count": 27,
     "metadata": {},
     "output_type": "execute_result"
    }
   ],
   "source": [
    "X_i_C = pd.DataFrame((A_i_C_PT['A_i_C_PT_mean'] - A_i_C_Car['A_i_C_Car_mean'] )\n",
    "                     /(A_i_C_PT['A_i_C_PT_mean']  + A_i_C_Car['A_i_C_Car_mean'] ))\n",
    "X_i_C.columns = ['X_i_C']\n",
    "X_i_C.to_csv('data//X_i_C.csv')\n",
    "X_i_C.head()"
   ]
  },
  {
   "cell_type": "markdown",
   "metadata": {},
   "source": [
    "Tand the zonal home-trip-based modal disparity is given by:\n",
    "\n",
    "$X^H_i = \\frac{A_i^{H,PT}-A_i^{H,Car}}{A_i^{H,PT}+A_i^{H,Car}}$  (7)"
   ]
  },
  {
   "cell_type": "code",
   "execution_count": 28,
   "metadata": {},
   "outputs": [
    {
     "data": {
      "text/html": [
       "<div>\n",
       "<style scoped>\n",
       "    .dataframe tbody tr th:only-of-type {\n",
       "        vertical-align: middle;\n",
       "    }\n",
       "\n",
       "    .dataframe tbody tr th {\n",
       "        vertical-align: top;\n",
       "    }\n",
       "\n",
       "    .dataframe thead th {\n",
       "        text-align: right;\n",
       "    }\n",
       "</style>\n",
       "<table border=\"1\" class=\"dataframe\">\n",
       "  <thead>\n",
       "    <tr style=\"text-align: right;\">\n",
       "      <th></th>\n",
       "      <th>X_i_H</th>\n",
       "    </tr>\n",
       "    <tr>\n",
       "      <th>i</th>\n",
       "      <th></th>\n",
       "    </tr>\n",
       "  </thead>\n",
       "  <tbody>\n",
       "    <tr>\n",
       "      <th>3</th>\n",
       "      <td>0.21</td>\n",
       "    </tr>\n",
       "    <tr>\n",
       "      <th>84</th>\n",
       "      <td>0.22</td>\n",
       "    </tr>\n",
       "    <tr>\n",
       "      <th>96</th>\n",
       "      <td>0.21</td>\n",
       "    </tr>\n",
       "    <tr>\n",
       "      <th>114</th>\n",
       "      <td>0.24</td>\n",
       "    </tr>\n",
       "    <tr>\n",
       "      <th>133</th>\n",
       "      <td>0.19</td>\n",
       "    </tr>\n",
       "  </tbody>\n",
       "</table>\n",
       "</div>"
      ],
      "text/plain": [
       "     X_i_H\n",
       "i         \n",
       "3     0.21\n",
       "84    0.22\n",
       "96    0.21\n",
       "114   0.24\n",
       "133   0.19"
      ]
     },
     "execution_count": 28,
     "metadata": {},
     "output_type": "execute_result"
    }
   ],
   "source": [
    "X_i_H = pd.DataFrame((A_i_H_PT['A_i_H_PT_mean'] - A_i_H_Car['A_i_H_Car_mean'])/(A_i_H_PT['A_i_H_PT_mean'] + A_i_H_Car['A_i_H_Car_mean']))\n",
    "X_i_H.columns = ['X_i_H']\n",
    "X_i_H.to_csv('data//X_i_H.csv')\n",
    "X_i_H.head()"
   ]
  },
  {
   "cell_type": "markdown",
   "metadata": {},
   "source": [
    "We also calculate the regional average for each accessibility and disparity metric for single values that describe the whole city. They are:\n",
    "\n",
    "$A^{C,PT} = 1/W \\sum_i W_i \\times A^{C,PT}_i$ "
   ]
  },
  {
   "cell_type": "code",
   "execution_count": 29,
   "metadata": {},
   "outputs": [
    {
     "name": "stdout",
     "output_type": "stream",
     "text": [
      "A_C_PT = 24.792175\n"
     ]
    }
   ],
   "source": [
    "df = A_i_C_PT['A_i_C_PT_mean'].to_frame()\n",
    "df['W'] = od.groupby(\"Z_Rejon\")[['TripsPuT']].sum()\n",
    "df['W'] = df['W'] * df['A_i_C_PT_mean']\n",
    "A_C_PT = df.W.sum()/ od.groupby(\"Z_Rejon\")[['TripsPuT']].sum().sum().values[0]\n",
    "print('A_C_PT = ' +str(A_C_PT))"
   ]
  },
  {
   "cell_type": "code",
   "execution_count": 30,
   "metadata": {},
   "outputs": [
    {
     "name": "stdout",
     "output_type": "stream",
     "text": [
      "A_C_Car = 18.059713\n"
     ]
    }
   ],
   "source": [
    "df = A_i_C_Car['A_i_C_Car_mean'].to_frame()\n",
    "df['W'] = od.groupby(\"Z_Rejon\")[['TripsPrT']].sum()\n",
    "df['W'] = df['W'] * df['A_i_C_Car_mean']\n",
    "A_C_Car = df.W.sum()/ od.groupby(\"Z_Rejon\")[['TripsPrT']].sum().sum().values[0]\n",
    "print('A_C_Car = ' +str(A_C_Car))"
   ]
  }
 ],
 "metadata": {
  "kernelspec": {
   "display_name": "Python 2",
   "language": "python",
   "name": "python2"
  },
  "language_info": {
   "codemirror_mode": {
    "name": "ipython",
    "version": 2
   },
   "file_extension": ".py",
   "mimetype": "text/x-python",
   "name": "python",
   "nbconvert_exporter": "python",
   "pygments_lexer": "ipython2",
   "version": "2.7.15"
  }
 },
 "nbformat": 4,
 "nbformat_minor": 2
}
