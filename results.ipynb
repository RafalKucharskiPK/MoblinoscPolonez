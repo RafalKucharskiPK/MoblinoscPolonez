{
 "cells": [
  {
   "cell_type": "markdown",
   "metadata": {},
   "source": [
    "# OD Pair based analysis WWA"
   ]
  },
  {
   "cell_type": "code",
   "execution_count": 8,
   "metadata": {},
   "outputs": [],
   "source": [
    "import pandas as pd\n",
    "import matplotlib.pyplot as plt\n",
    "%matplotlib inline\n",
    "pd.options.display.float_format = '{:,.2f}'.format"
   ]
  },
  {
   "cell_type": "markdown",
   "metadata": {},
   "source": [
    "## parameters"
   ]
  },
  {
   "cell_type": "code",
   "execution_count": 9,
   "metadata": {},
   "outputs": [],
   "source": [
    "BUDGETS = [60,90,120,150,180,210,240]\n",
    "BUDGET_PRT = BUDGETS[3]\n",
    "BUDGET_PUT = BUDGET_PRT #trips['Czas_PuT'].quantile(0.5) # a tu juz zakladam ze budzety sa rowne"
   ]
  },
  {
   "cell_type": "markdown",
   "metadata": {},
   "source": [
    "## read data\n",
    "* od matrices: Prt, PuT"
   ]
  },
  {
   "cell_type": "code",
   "execution_count": 10,
   "metadata": {},
   "outputs": [],
   "source": [
    "od_PuT = pd.read_csv('data//MTX_99321.csv')\n",
    "del od_PuT['Unnamed: 0']\n",
    "od_PuT.columns = [int(c) for c in od_PuT.columns]\n",
    "od_PrT = pd.read_csv('data//MTX_99421.csv')\n",
    "del od_PrT['Unnamed: 0']\n",
    "od_PrT.columns = [int(c) for c in od_PrT.columns]"
   ]
  },
  {
   "cell_type": "code",
   "execution_count": 11,
   "metadata": {},
   "outputs": [],
   "source": [
    "od_PrT = od_PrT.stack().reset_index()\n",
    "od_PrT.columns=['Z_Rejon',\"Do_Rejon\", 'TripsPrT']\n",
    "od_PuT = od_PuT.stack().reset_index()\n",
    "od_PuT.columns=['Z_Rejon',\"Do_Rejon\", 'TripsPuT']\n",
    "od = pd.merge(od_PrT, od_PuT, on = ['Z_Rejon', \"Do_Rejon\"])"
   ]
  },
  {
   "cell_type": "markdown",
   "metadata": {},
   "source": [
    "* trips"
   ]
  },
  {
   "cell_type": "code",
   "execution_count": 12,
   "metadata": {},
   "outputs": [],
   "source": [
    "trips = pd.read_csv('data//From_Via_To.csv')\n",
    "del trips['Unnamed: 0']"
   ]
  },
  {
   "cell_type": "markdown",
   "metadata": {},
   "source": [
    "## prepare"
   ]
  },
  {
   "cell_type": "code",
   "execution_count": 14,
   "metadata": {},
   "outputs": [],
   "source": [
    "trips.Czas_PrT = trips.Czas_PrT/60 # przeliczam na minuty\n",
    "trips.Czas_PuT = trips.Czas_PuT/60 # \n",
    "# budzety z zakresu odpowiedniego\n",
    "trips['time_left_PrT']=BUDGET_PRT - trips.Czas_PrT # ile czasu zostaje ponizej budzetu w POI\n",
    "trips['time_left_PuT']=BUDGET_PUT - trips.Czas_PuT\n",
    "trips.Z_Rejon = trips.Z_Rejon.astype(int)\n",
    "trips.Do_Rejon = trips.Do_Rejon.astype(int)\n",
    "pd.options.display.float_format = '{:,.1f}'.format"
   ]
  },
  {
   "cell_type": "code",
   "execution_count": 15,
   "metadata": {},
   "outputs": [],
   "source": [
    "trips = pd.merge(trips,od, on = ['Z_Rejon',\"Do_Rejon\"])\n",
    "trips['odPair'] = trips[\"Z_Rejon\"].astype(int)*1000+trips[\"Do_Rejon\"].astype(int)"
   ]
  },
  {
   "cell_type": "code",
   "execution_count": 28,
   "metadata": {},
   "outputs": [],
   "source": [
    "# tylko polaczenia na ktorych sa podroze\n",
    "trips = trips[trips.TripsPrT>0.1]"
   ]
  },
  {
   "cell_type": "markdown",
   "metadata": {},
   "source": [
    "# OD pairs-based analysis:\n",
    "## number of POI available\n",
    "- total minutes\n",
    "- mean/median minutes"
   ]
  },
  {
   "cell_type": "code",
   "execution_count": 29,
   "metadata": {},
   "outputs": [
    {
     "name": "stdout",
     "output_type": "stream",
     "text": [
      "number of POIs within budget per OD Pair - PuT/PrT\n"
     ]
    },
    {
     "data": {
      "text/html": [
       "<div>\n",
       "<style scoped>\n",
       "    .dataframe tbody tr th:only-of-type {\n",
       "        vertical-align: middle;\n",
       "    }\n",
       "\n",
       "    .dataframe tbody tr th {\n",
       "        vertical-align: top;\n",
       "    }\n",
       "\n",
       "    .dataframe thead th {\n",
       "        text-align: right;\n",
       "    }\n",
       "</style>\n",
       "<table border=\"1\" class=\"dataframe\">\n",
       "  <thead>\n",
       "    <tr style=\"text-align: right;\">\n",
       "      <th></th>\n",
       "      <th>Z_Rejon</th>\n",
       "      <th>Do_Rejon</th>\n",
       "      <th>nPOIsPRT</th>\n",
       "      <th>nPOIsPUT</th>\n",
       "    </tr>\n",
       "  </thead>\n",
       "  <tbody>\n",
       "    <tr>\n",
       "      <th>0</th>\n",
       "      <td>2</td>\n",
       "      <td>1</td>\n",
       "      <td>10</td>\n",
       "      <td>10</td>\n",
       "    </tr>\n",
       "    <tr>\n",
       "      <th>1</th>\n",
       "      <td>2</td>\n",
       "      <td>3</td>\n",
       "      <td>10</td>\n",
       "      <td>10</td>\n",
       "    </tr>\n",
       "    <tr>\n",
       "      <th>2</th>\n",
       "      <td>2</td>\n",
       "      <td>4</td>\n",
       "      <td>10</td>\n",
       "      <td>10</td>\n",
       "    </tr>\n",
       "    <tr>\n",
       "      <th>3</th>\n",
       "      <td>2</td>\n",
       "      <td>5</td>\n",
       "      <td>10</td>\n",
       "      <td>10</td>\n",
       "    </tr>\n",
       "    <tr>\n",
       "      <th>4</th>\n",
       "      <td>2</td>\n",
       "      <td>6</td>\n",
       "      <td>10</td>\n",
       "      <td>10</td>\n",
       "    </tr>\n",
       "  </tbody>\n",
       "</table>\n",
       "</div>"
      ],
      "text/plain": [
       "   Z_Rejon  Do_Rejon  nPOIsPRT  nPOIsPUT\n",
       "0        2         1        10        10\n",
       "1        2         3        10        10\n",
       "2        2         4        10        10\n",
       "3        2         5        10        10\n",
       "4        2         6        10        10"
      ]
     },
     "execution_count": 29,
     "metadata": {},
     "output_type": "execute_result"
    }
   ],
   "source": [
    "print('number of POIs within budget per OD Pair - PuT/PrT')\n",
    "nPOIs = trips[trips.Czas_PrT<BUDGET_PRT].groupby(by=['Z_Rejon',\"Do_Rejon\"])['POI'].nunique().to_frame('nPOIsPRT')\n",
    "nPOIs['nPOIsPUT'] = trips[trips.Czas_PuT<BUDGET_PUT].groupby(by=['Z_Rejon',\"Do_Rejon\"])['POI'].nunique()\n",
    "nPOIs.reset_index().head()"
   ]
  },
  {
   "cell_type": "markdown",
   "metadata": {},
   "source": [
    "## mean/median time available"
   ]
  },
  {
   "cell_type": "code",
   "execution_count": 30,
   "metadata": {},
   "outputs": [
    {
     "name": "stdout",
     "output_type": "stream",
     "text": [
      "time per OD pair  PrT\n"
     ]
    },
    {
     "data": {
      "text/html": [
       "<div>\n",
       "<style scoped>\n",
       "    .dataframe tbody tr th:only-of-type {\n",
       "        vertical-align: middle;\n",
       "    }\n",
       "\n",
       "    .dataframe tbody tr th {\n",
       "        vertical-align: top;\n",
       "    }\n",
       "\n",
       "    .dataframe thead tr th {\n",
       "        text-align: left;\n",
       "    }\n",
       "</style>\n",
       "<table border=\"1\" class=\"dataframe\">\n",
       "  <thead>\n",
       "    <tr>\n",
       "      <th></th>\n",
       "      <th>Z_Rejon</th>\n",
       "      <th>Do_Rejon</th>\n",
       "      <th colspan=\"3\" halign=\"left\">Czas_PrT</th>\n",
       "      <th colspan=\"3\" halign=\"left\">time_left_PrT</th>\n",
       "    </tr>\n",
       "    <tr>\n",
       "      <th></th>\n",
       "      <th></th>\n",
       "      <th></th>\n",
       "      <th>sum</th>\n",
       "      <th>mean</th>\n",
       "      <th>median</th>\n",
       "      <th>sum</th>\n",
       "      <th>mean</th>\n",
       "      <th>median</th>\n",
       "    </tr>\n",
       "  </thead>\n",
       "  <tbody>\n",
       "    <tr>\n",
       "      <th>0</th>\n",
       "      <td>2</td>\n",
       "      <td>1</td>\n",
       "      <td>4.4</td>\n",
       "      <td>0.4</td>\n",
       "      <td>0.5</td>\n",
       "      <td>1,495.6</td>\n",
       "      <td>149.6</td>\n",
       "      <td>149.5</td>\n",
       "    </tr>\n",
       "    <tr>\n",
       "      <th>1</th>\n",
       "      <td>2</td>\n",
       "      <td>3</td>\n",
       "      <td>4.4</td>\n",
       "      <td>0.4</td>\n",
       "      <td>0.5</td>\n",
       "      <td>1,495.6</td>\n",
       "      <td>149.6</td>\n",
       "      <td>149.5</td>\n",
       "    </tr>\n",
       "    <tr>\n",
       "      <th>2</th>\n",
       "      <td>2</td>\n",
       "      <td>4</td>\n",
       "      <td>4.4</td>\n",
       "      <td>0.4</td>\n",
       "      <td>0.5</td>\n",
       "      <td>1,495.6</td>\n",
       "      <td>149.6</td>\n",
       "      <td>149.5</td>\n",
       "    </tr>\n",
       "    <tr>\n",
       "      <th>3</th>\n",
       "      <td>2</td>\n",
       "      <td>5</td>\n",
       "      <td>4.4</td>\n",
       "      <td>0.4</td>\n",
       "      <td>0.5</td>\n",
       "      <td>1,495.6</td>\n",
       "      <td>149.6</td>\n",
       "      <td>149.5</td>\n",
       "    </tr>\n",
       "    <tr>\n",
       "      <th>4</th>\n",
       "      <td>2</td>\n",
       "      <td>6</td>\n",
       "      <td>4.4</td>\n",
       "      <td>0.4</td>\n",
       "      <td>0.5</td>\n",
       "      <td>1,495.6</td>\n",
       "      <td>149.6</td>\n",
       "      <td>149.5</td>\n",
       "    </tr>\n",
       "  </tbody>\n",
       "</table>\n",
       "</div>"
      ],
      "text/plain": [
       "  Z_Rejon Do_Rejon Czas_PrT             time_left_PrT             \n",
       "                        sum mean median           sum  mean median\n",
       "0       2        1      4.4  0.4    0.5       1,495.6 149.6  149.5\n",
       "1       2        3      4.4  0.4    0.5       1,495.6 149.6  149.5\n",
       "2       2        4      4.4  0.4    0.5       1,495.6 149.6  149.5\n",
       "3       2        5      4.4  0.4    0.5       1,495.6 149.6  149.5\n",
       "4       2        6      4.4  0.4    0.5       1,495.6 149.6  149.5"
      ]
     },
     "execution_count": 30,
     "metadata": {},
     "output_type": "execute_result"
    }
   ],
   "source": [
    "print(\"time per OD pair  PrT\")\n",
    "t = trips[trips.Czas_PrT<BUDGET_PRT].groupby(\n",
    "    by=['Z_Rejon',\"Do_Rejon\"])['Czas_PrT', 'time_left_PrT'].agg(['sum','mean','median']).reset_index()\n",
    "t.head()"
   ]
  },
  {
   "cell_type": "code",
   "execution_count": 23,
   "metadata": {},
   "outputs": [
    {
     "name": "stdout",
     "output_type": "stream",
     "text": [
      "time per OD pair PuT\n"
     ]
    },
    {
     "data": {
      "text/html": [
       "<div>\n",
       "<style scoped>\n",
       "    .dataframe tbody tr th:only-of-type {\n",
       "        vertical-align: middle;\n",
       "    }\n",
       "\n",
       "    .dataframe tbody tr th {\n",
       "        vertical-align: top;\n",
       "    }\n",
       "\n",
       "    .dataframe thead tr th {\n",
       "        text-align: left;\n",
       "    }\n",
       "</style>\n",
       "<table border=\"1\" class=\"dataframe\">\n",
       "  <thead>\n",
       "    <tr>\n",
       "      <th></th>\n",
       "      <th>Z_Rejon</th>\n",
       "      <th>Do_Rejon</th>\n",
       "      <th colspan=\"3\" halign=\"left\">Czas_PuT</th>\n",
       "      <th colspan=\"3\" halign=\"left\">time_left_PuT</th>\n",
       "    </tr>\n",
       "    <tr>\n",
       "      <th></th>\n",
       "      <th></th>\n",
       "      <th></th>\n",
       "      <th>sum</th>\n",
       "      <th>mean</th>\n",
       "      <th>median</th>\n",
       "      <th>sum</th>\n",
       "      <th>mean</th>\n",
       "      <th>median</th>\n",
       "    </tr>\n",
       "  </thead>\n",
       "  <tbody>\n",
       "    <tr>\n",
       "      <th>0</th>\n",
       "      <td>1</td>\n",
       "      <td>1</td>\n",
       "      <td>91.1</td>\n",
       "      <td>22.8</td>\n",
       "      <td>23.8</td>\n",
       "      <td>31.1</td>\n",
       "      <td>7.8</td>\n",
       "      <td>6.8</td>\n",
       "    </tr>\n",
       "    <tr>\n",
       "      <th>1</th>\n",
       "      <td>1</td>\n",
       "      <td>2</td>\n",
       "      <td>86.5</td>\n",
       "      <td>21.6</td>\n",
       "      <td>23.2</td>\n",
       "      <td>35.6</td>\n",
       "      <td>8.9</td>\n",
       "      <td>7.4</td>\n",
       "    </tr>\n",
       "    <tr>\n",
       "      <th>2</th>\n",
       "      <td>1</td>\n",
       "      <td>3</td>\n",
       "      <td>89.8</td>\n",
       "      <td>22.4</td>\n",
       "      <td>22.3</td>\n",
       "      <td>32.3</td>\n",
       "      <td>8.1</td>\n",
       "      <td>8.2</td>\n",
       "    </tr>\n",
       "    <tr>\n",
       "      <th>3</th>\n",
       "      <td>1</td>\n",
       "      <td>4</td>\n",
       "      <td>93.0</td>\n",
       "      <td>23.3</td>\n",
       "      <td>23.7</td>\n",
       "      <td>29.1</td>\n",
       "      <td>7.3</td>\n",
       "      <td>6.8</td>\n",
       "    </tr>\n",
       "    <tr>\n",
       "      <th>4</th>\n",
       "      <td>1</td>\n",
       "      <td>5</td>\n",
       "      <td>66.9</td>\n",
       "      <td>22.3</td>\n",
       "      <td>22.3</td>\n",
       "      <td>24.7</td>\n",
       "      <td>8.2</td>\n",
       "      <td>8.2</td>\n",
       "    </tr>\n",
       "  </tbody>\n",
       "</table>\n",
       "</div>"
      ],
      "text/plain": [
       "  Z_Rejon Do_Rejon Czas_PuT             time_left_PuT            \n",
       "                        sum mean median           sum mean median\n",
       "0       1        1     91.1 22.8   23.8          31.1  7.8    6.8\n",
       "1       1        2     86.5 21.6   23.2          35.6  8.9    7.4\n",
       "2       1        3     89.8 22.4   22.3          32.3  8.1    8.2\n",
       "3       1        4     93.0 23.3   23.7          29.1  7.3    6.8\n",
       "4       1        5     66.9 22.3   22.3          24.7  8.2    8.2"
      ]
     },
     "execution_count": 23,
     "metadata": {},
     "output_type": "execute_result"
    }
   ],
   "source": [
    "print(\"time per OD pair PuT\")\n",
    "t = trips[trips.Czas_PuT<BUDGET_PUT].groupby(\n",
    "    by=['Z_Rejon',\"Do_Rejon\"])['Czas_PuT', 'time_left_PuT'].agg(['sum','mean','median']).reset_index()\n",
    "t.head()"
   ]
  },
  {
   "cell_type": "code",
   "execution_count": null,
   "metadata": {},
   "outputs": [],
   "source": []
  }
 ],
 "metadata": {
  "kernelspec": {
   "display_name": "Python 2",
   "language": "python",
   "name": "python2"
  },
  "language_info": {
   "codemirror_mode": {
    "name": "ipython",
    "version": 2
   },
   "file_extension": ".py",
   "mimetype": "text/x-python",
   "name": "python",
   "nbconvert_exporter": "python",
   "pygments_lexer": "ipython2",
   "version": "2.7.14"
  }
 },
 "nbformat": 4,
 "nbformat_minor": 1
}
